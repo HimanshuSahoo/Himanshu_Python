{
  "nbformat": 4,
  "nbformat_minor": 5,
  "metadata": {
    "kernelspec": {
      "display_name": "Python 3",
      "language": "python",
      "name": "python3"
    },
    "language_info": {
      "codemirror_mode": {
        "name": "ipython",
        "version": 3
      },
      "file_extension": ".py",
      "mimetype": "text/x-python",
      "name": "python",
      "nbconvert_exporter": "python",
      "pygments_lexer": "ipython3",
      "version": "3.8.8"
    },
    "toc": {
      "base_numbering": 1,
      "nav_menu": {},
      "number_sections": true,
      "sideBar": true,
      "skip_h1_title": false,
      "title_cell": "Table of Contents",
      "title_sidebar": "Contents",
      "toc_cell": false,
      "toc_position": {},
      "toc_section_display": true,
      "toc_window_display": false
    },
    "varInspector": {
      "cols": {
        "lenName": 16,
        "lenType": 16,
        "lenVar": 40
      },
      "kernels_config": {
        "python": {
          "delete_cmd_postfix": "",
          "delete_cmd_prefix": "del ",
          "library": "var_list.py",
          "varRefreshCmd": "print(var_dic_list())"
        },
        "r": {
          "delete_cmd_postfix": ") ",
          "delete_cmd_prefix": "rm(",
          "library": "var_list.r",
          "varRefreshCmd": "cat(var_dic_list()) "
        }
      },
      "types_to_exclude": [
        "module",
        "function",
        "builtin_function_or_method",
        "instance",
        "_Feature"
      ],
      "window_display": false
    },
    "colab": {
      "name": "Support Vector Machine Assignment 1 Salary.ipynb",
      "provenance": [],
      "include_colab_link": true
    }
  },
  "cells": [
    {
      "cell_type": "markdown",
      "metadata": {
        "id": "view-in-github",
        "colab_type": "text"
      },
      "source": [
        "<a href=\"https://colab.research.google.com/github/HimanshuSahoo/Himanshu_Python/blob/main/Support_Vector_Machine_Assignment_1_Salary.ipynb\" target=\"_parent\"><img src=\"https://colab.research.google.com/assets/colab-badge.svg\" alt=\"Open In Colab\"/></a>"
      ]
    },
    {
      "cell_type": "code",
      "metadata": {
        "id": "f982b535"
      },
      "source": [
        "import numpy as np\n",
        "import pandas as pd\n",
        "import seaborn as sns"
      ],
      "id": "f982b535",
      "execution_count": 1,
      "outputs": []
    },
    {
      "cell_type": "code",
      "metadata": {
        "id": "ea62d3b2"
      },
      "source": [
        "sal_train=pd.read_csv('SalaryData_Train(1).csv')"
      ],
      "id": "ea62d3b2",
      "execution_count": 2,
      "outputs": []
    },
    {
      "cell_type": "code",
      "metadata": {
        "id": "9627dd38"
      },
      "source": [
        "sal_test=pd.read_csv('SalaryData_Test(1).csv')"
      ],
      "id": "9627dd38",
      "execution_count": 3,
      "outputs": []
    },
    {
      "cell_type": "code",
      "metadata": {
        "colab": {
          "base_uri": "https://localhost:8080/"
        },
        "id": "762a44e8",
        "outputId": "36462bb1-9650-4f05-c6db-d5a4c43baeac"
      },
      "source": [
        "sal_train.columns"
      ],
      "id": "762a44e8",
      "execution_count": 4,
      "outputs": [
        {
          "output_type": "execute_result",
          "data": {
            "text/plain": [
              "Index(['age', 'workclass', 'education', 'educationno', 'maritalstatus',\n",
              "       'occupation', 'relationship', 'race', 'sex', 'capitalgain',\n",
              "       'capitalloss', 'hoursperweek', 'native', 'Salary'],\n",
              "      dtype='object')"
            ]
          },
          "metadata": {},
          "execution_count": 4
        }
      ]
    },
    {
      "cell_type": "code",
      "metadata": {
        "colab": {
          "base_uri": "https://localhost:8080/"
        },
        "id": "050740f2",
        "outputId": "d9f0195e-8906-4add-e9a7-ad7bc509abbf"
      },
      "source": [
        "sal_test.columns"
      ],
      "id": "050740f2",
      "execution_count": 5,
      "outputs": [
        {
          "output_type": "execute_result",
          "data": {
            "text/plain": [
              "Index(['age', 'workclass', 'education', 'educationno', 'maritalstatus',\n",
              "       'occupation', 'relationship', 'race', 'sex', 'capitalgain',\n",
              "       'capitalloss', 'hoursperweek', 'native', 'Salary'],\n",
              "      dtype='object')"
            ]
          },
          "metadata": {},
          "execution_count": 5
        }
      ]
    },
    {
      "cell_type": "code",
      "metadata": {
        "id": "6dc16f32"
      },
      "source": [
        "string_col=['workclass','education','maritalstatus','occupation','relationship','race','sex','native']"
      ],
      "id": "6dc16f32",
      "execution_count": 6,
      "outputs": []
    },
    {
      "cell_type": "code",
      "metadata": {
        "id": "c9dff594"
      },
      "source": [
        "from sklearn import preprocessing\n",
        "label_encoder=preprocessing.LabelEncoder()"
      ],
      "id": "c9dff594",
      "execution_count": 7,
      "outputs": []
    },
    {
      "cell_type": "code",
      "metadata": {
        "id": "aae3f015"
      },
      "source": [
        "for i in string_col:\n",
        "    sal_train[i]=label_encoder.fit_transform(sal_train[i])\n",
        "    sal_test[i]=label_encoder.fit_transform(sal_test[i])"
      ],
      "id": "aae3f015",
      "execution_count": 8,
      "outputs": []
    },
    {
      "cell_type": "code",
      "metadata": {
        "id": "48b0eaa5"
      },
      "source": [
        "#columns=list(sal_train.columns)\n",
        "#train_x=sal_train[columns[0:13]]\n",
        "#train_y=sal_train[columns[13]]\n",
        "#test_x=sal_test[columns[0:13]]\n",
        "#test_y=sal_test[columns[13]]\n",
        "\n",
        "train_x=sal_train.iloc[0:500,0:13]\n",
        "train_y=sal_train.iloc[0:500,13]\n",
        "test_x=sal_test.iloc[0:300,0:13]\n",
        "test_y=sal_test.iloc[0:300,13]"
      ],
      "id": "48b0eaa5",
      "execution_count": 9,
      "outputs": []
    },
    {
      "cell_type": "code",
      "metadata": {
        "id": "1b24b657"
      },
      "source": [
        "#SVM Classification using kernels: linear,poly,rbf\n",
        "from sklearn.svm import SVC"
      ],
      "id": "1b24b657",
      "execution_count": 10,
      "outputs": []
    },
    {
      "cell_type": "code",
      "metadata": {
        "colab": {
          "base_uri": "https://localhost:8080/"
        },
        "id": "a7dea2cf",
        "outputId": "1bb065df-760a-4aa6-f46e-091592ced85f"
      },
      "source": [
        "#kernel=linear\n",
        "model_linear=SVC(kernel='linear')\n",
        "model_linear.fit(train_x,train_y)"
      ],
      "id": "a7dea2cf",
      "execution_count": 11,
      "outputs": [
        {
          "output_type": "execute_result",
          "data": {
            "text/plain": [
              "SVC(C=1.0, break_ties=False, cache_size=200, class_weight=None, coef0=0.0,\n",
              "    decision_function_shape='ovr', degree=3, gamma='scale', kernel='linear',\n",
              "    max_iter=-1, probability=False, random_state=None, shrinking=True,\n",
              "    tol=0.001, verbose=False)"
            ]
          },
          "metadata": {},
          "execution_count": 11
        }
      ]
    },
    {
      "cell_type": "code",
      "metadata": {
        "id": "222452e3"
      },
      "source": [
        "train_pred_lin=model_linear.predict(train_x)\n",
        "test_pred_lin=model_linear.predict(test_x)\n",
        "train_lin_acc=np.mean(train_pred_lin==train_y)\n",
        "test_lin_acc=np.mean(test_pred_lin==test_y)"
      ],
      "id": "222452e3",
      "execution_count": 12,
      "outputs": []
    },
    {
      "cell_type": "code",
      "metadata": {
        "colab": {
          "base_uri": "https://localhost:8080/"
        },
        "id": "60925119",
        "outputId": "301ba1cb-8378-4363-97e3-11ed55a4411f"
      },
      "source": [
        "train_lin_acc"
      ],
      "id": "60925119",
      "execution_count": 13,
      "outputs": [
        {
          "output_type": "execute_result",
          "data": {
            "text/plain": [
              "0.818"
            ]
          },
          "metadata": {},
          "execution_count": 13
        }
      ]
    },
    {
      "cell_type": "code",
      "metadata": {
        "colab": {
          "base_uri": "https://localhost:8080/"
        },
        "id": "6c6aa201",
        "outputId": "0c65d329-8ad1-4f24-8c37-b0f252f5829d"
      },
      "source": [
        "test_lin_acc "
      ],
      "id": "6c6aa201",
      "execution_count": 14,
      "outputs": [
        {
          "output_type": "execute_result",
          "data": {
            "text/plain": [
              "0.8166666666666667"
            ]
          },
          "metadata": {},
          "execution_count": 14
        }
      ]
    },
    {
      "cell_type": "code",
      "metadata": {
        "colab": {
          "base_uri": "https://localhost:8080/"
        },
        "id": "e454c3e0",
        "outputId": "c157b016-e614-41ff-fe3a-b5b20acfa6e8"
      },
      "source": [
        "#kernel=poly\n",
        "model_poly=SVC(kernel='poly')\n",
        "model_poly.fit(train_x,train_y)"
      ],
      "id": "e454c3e0",
      "execution_count": 15,
      "outputs": [
        {
          "output_type": "execute_result",
          "data": {
            "text/plain": [
              "SVC(C=1.0, break_ties=False, cache_size=200, class_weight=None, coef0=0.0,\n",
              "    decision_function_shape='ovr', degree=3, gamma='scale', kernel='poly',\n",
              "    max_iter=-1, probability=False, random_state=None, shrinking=True,\n",
              "    tol=0.001, verbose=False)"
            ]
          },
          "metadata": {},
          "execution_count": 15
        }
      ]
    },
    {
      "cell_type": "code",
      "metadata": {
        "id": "364e91ca"
      },
      "source": [
        "train_pred_poly=model_poly.predict(train_x)\n",
        "test_pred_poly=model_poly.predict(test_x)\n",
        "train_poly_acc=np.mean(train_pred_poly==train_y)\n",
        "test_poly_acc=np.mean(test_pred_poly==test_y)"
      ],
      "id": "364e91ca",
      "execution_count": 16,
      "outputs": []
    },
    {
      "cell_type": "code",
      "metadata": {
        "colab": {
          "base_uri": "https://localhost:8080/"
        },
        "id": "9690cd95",
        "outputId": "bce71b4f-4af4-42e1-ee47-64928402a5ca"
      },
      "source": [
        "train_poly_acc"
      ],
      "id": "9690cd95",
      "execution_count": 17,
      "outputs": [
        {
          "output_type": "execute_result",
          "data": {
            "text/plain": [
              "0.812"
            ]
          },
          "metadata": {},
          "execution_count": 17
        }
      ]
    },
    {
      "cell_type": "code",
      "metadata": {
        "colab": {
          "base_uri": "https://localhost:8080/"
        },
        "id": "c8378055",
        "outputId": "bafcfd0e-512e-4cf0-d73b-50b96a0507cb"
      },
      "source": [
        "test_poly_acc"
      ],
      "id": "c8378055",
      "execution_count": 18,
      "outputs": [
        {
          "output_type": "execute_result",
          "data": {
            "text/plain": [
              "0.8033333333333333"
            ]
          },
          "metadata": {},
          "execution_count": 18
        }
      ]
    },
    {
      "cell_type": "code",
      "metadata": {
        "colab": {
          "base_uri": "https://localhost:8080/"
        },
        "id": "100d3172",
        "outputId": "41d51607-652b-4238-bc05-70bcfba3a6f7"
      },
      "source": [
        "#kernel=rbf\n",
        "model_rbf=SVC(kernel='rbf')\n",
        "model_rbf.fit(train_x,train_y)"
      ],
      "id": "100d3172",
      "execution_count": 19,
      "outputs": [
        {
          "output_type": "execute_result",
          "data": {
            "text/plain": [
              "SVC(C=1.0, break_ties=False, cache_size=200, class_weight=None, coef0=0.0,\n",
              "    decision_function_shape='ovr', degree=3, gamma='scale', kernel='rbf',\n",
              "    max_iter=-1, probability=False, random_state=None, shrinking=True,\n",
              "    tol=0.001, verbose=False)"
            ]
          },
          "metadata": {},
          "execution_count": 19
        }
      ]
    },
    {
      "cell_type": "code",
      "metadata": {
        "id": "3b66a461"
      },
      "source": [
        "train_pred_rbf=model_rbf.predict(train_x)\n",
        "test_pred_rbf=model_rbf.predict(test_x)\n",
        "train_rbf_acc=np.mean(train_pred_rbf==train_y)\n",
        "test_rbf_acc=np.mean(test_pred_rbf==test_y)"
      ],
      "id": "3b66a461",
      "execution_count": 20,
      "outputs": []
    },
    {
      "cell_type": "code",
      "metadata": {
        "colab": {
          "base_uri": "https://localhost:8080/"
        },
        "id": "864b15a9",
        "outputId": "8ea1de3b-e8d2-406d-e730-25f35f1e84db"
      },
      "source": [
        "train_rbf_acc"
      ],
      "id": "864b15a9",
      "execution_count": 21,
      "outputs": [
        {
          "output_type": "execute_result",
          "data": {
            "text/plain": [
              "0.812"
            ]
          },
          "metadata": {},
          "execution_count": 21
        }
      ]
    },
    {
      "cell_type": "code",
      "metadata": {
        "colab": {
          "base_uri": "https://localhost:8080/"
        },
        "id": "712c67ff",
        "outputId": "2a93dc0e-22ef-437f-999d-19f86745bf99"
      },
      "source": [
        "test_rbf_acc"
      ],
      "id": "712c67ff",
      "execution_count": 22,
      "outputs": [
        {
          "output_type": "execute_result",
          "data": {
            "text/plain": [
              "0.8033333333333333"
            ]
          },
          "metadata": {},
          "execution_count": 22
        }
      ]
    },
    {
      "cell_type": "code",
      "metadata": {
        "id": "20017be8"
      },
      "source": [
        ""
      ],
      "id": "20017be8",
      "execution_count": null,
      "outputs": []
    }
  ]
}