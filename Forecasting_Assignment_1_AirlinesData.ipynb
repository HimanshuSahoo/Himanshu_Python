{
  "nbformat": 4,
  "nbformat_minor": 5,
  "metadata": {
    "kernelspec": {
      "display_name": "Python 3",
      "language": "python",
      "name": "python3"
    },
    "language_info": {
      "codemirror_mode": {
        "name": "ipython",
        "version": 3
      },
      "file_extension": ".py",
      "mimetype": "text/x-python",
      "name": "python",
      "nbconvert_exporter": "python",
      "pygments_lexer": "ipython3",
      "version": "3.8.10"
    },
    "colab": {
      "name": "Forecasting Assignment 1.ipynb",
      "provenance": [],
      "include_colab_link": true
    }
  },
  "cells": [
    {
      "cell_type": "markdown",
      "metadata": {
        "id": "view-in-github",
        "colab_type": "text"
      },
      "source": [
        "<a href=\"https://colab.research.google.com/github/HimanshuSahoo/Himanshu_Python/blob/main/Forecasting_Assignment_1_AirlinesData.ipynb\" target=\"_parent\"><img src=\"https://colab.research.google.com/assets/colab-badge.svg\" alt=\"Open In Colab\"/></a>"
      ]
    },
    {
      "cell_type": "code",
      "metadata": {
        "colab": {
          "base_uri": "https://localhost:8080/"
        },
        "id": "b8f298c0",
        "outputId": "a00b3945-905a-4d34-d4b4-422b93075676"
      },
      "source": [
        "import pandas as pd\n",
        "import numpy as np\n",
        "import matplotlib.pyplot as plt\n",
        "import seaborn as sns\n",
        "from statsmodels.tsa.seasonal import seasonal_decompose\n",
        "from statsmodels.tsa.holtwinters import SimpleExpSmoothing \n",
        "from statsmodels.tsa.holtwinters import Holt \n",
        "from statsmodels.tsa.holtwinters import ExponentialSmoothing"
      ],
      "id": "b8f298c0",
      "execution_count": 2,
      "outputs": [
        {
          "output_type": "stream",
          "text": [
            "/usr/local/lib/python3.7/dist-packages/statsmodels/tools/_testing.py:19: FutureWarning: pandas.util.testing is deprecated. Use the functions in the public API at pandas.testing instead.\n",
            "  import pandas.util.testing as tm\n"
          ],
          "name": "stderr"
        }
      ]
    },
    {
      "cell_type": "code",
      "metadata": {
        "id": "87b00e8a"
      },
      "source": [
        "df = pd.read_excel(\"AirlinesData.xlsx\")"
      ],
      "id": "87b00e8a",
      "execution_count": 3,
      "outputs": []
    },
    {
      "cell_type": "code",
      "metadata": {
        "colab": {
          "base_uri": "https://localhost:8080/",
          "height": 417
        },
        "id": "cc3d9087",
        "outputId": "091b0c33-1639-421c-91d2-14f78547bc1d"
      },
      "source": [
        "df"
      ],
      "id": "cc3d9087",
      "execution_count": 4,
      "outputs": [
        {
          "output_type": "execute_result",
          "data": {
            "text/html": [
              "<div>\n",
              "<style scoped>\n",
              "    .dataframe tbody tr th:only-of-type {\n",
              "        vertical-align: middle;\n",
              "    }\n",
              "\n",
              "    .dataframe tbody tr th {\n",
              "        vertical-align: top;\n",
              "    }\n",
              "\n",
              "    .dataframe thead th {\n",
              "        text-align: right;\n",
              "    }\n",
              "</style>\n",
              "<table border=\"1\" class=\"dataframe\">\n",
              "  <thead>\n",
              "    <tr style=\"text-align: right;\">\n",
              "      <th></th>\n",
              "      <th>Month</th>\n",
              "      <th>Passengers</th>\n",
              "    </tr>\n",
              "  </thead>\n",
              "  <tbody>\n",
              "    <tr>\n",
              "      <th>0</th>\n",
              "      <td>1995-01-01</td>\n",
              "      <td>112</td>\n",
              "    </tr>\n",
              "    <tr>\n",
              "      <th>1</th>\n",
              "      <td>1995-02-01</td>\n",
              "      <td>118</td>\n",
              "    </tr>\n",
              "    <tr>\n",
              "      <th>2</th>\n",
              "      <td>1995-03-01</td>\n",
              "      <td>132</td>\n",
              "    </tr>\n",
              "    <tr>\n",
              "      <th>3</th>\n",
              "      <td>1995-04-01</td>\n",
              "      <td>129</td>\n",
              "    </tr>\n",
              "    <tr>\n",
              "      <th>4</th>\n",
              "      <td>1995-05-01</td>\n",
              "      <td>121</td>\n",
              "    </tr>\n",
              "    <tr>\n",
              "      <th>...</th>\n",
              "      <td>...</td>\n",
              "      <td>...</td>\n",
              "    </tr>\n",
              "    <tr>\n",
              "      <th>91</th>\n",
              "      <td>2002-08-01</td>\n",
              "      <td>405</td>\n",
              "    </tr>\n",
              "    <tr>\n",
              "      <th>92</th>\n",
              "      <td>2002-09-01</td>\n",
              "      <td>355</td>\n",
              "    </tr>\n",
              "    <tr>\n",
              "      <th>93</th>\n",
              "      <td>2002-10-01</td>\n",
              "      <td>306</td>\n",
              "    </tr>\n",
              "    <tr>\n",
              "      <th>94</th>\n",
              "      <td>2002-11-01</td>\n",
              "      <td>271</td>\n",
              "    </tr>\n",
              "    <tr>\n",
              "      <th>95</th>\n",
              "      <td>2002-12-01</td>\n",
              "      <td>306</td>\n",
              "    </tr>\n",
              "  </tbody>\n",
              "</table>\n",
              "<p>96 rows × 2 columns</p>\n",
              "</div>"
            ],
            "text/plain": [
              "        Month  Passengers\n",
              "0  1995-01-01         112\n",
              "1  1995-02-01         118\n",
              "2  1995-03-01         132\n",
              "3  1995-04-01         129\n",
              "4  1995-05-01         121\n",
              "..        ...         ...\n",
              "91 2002-08-01         405\n",
              "92 2002-09-01         355\n",
              "93 2002-10-01         306\n",
              "94 2002-11-01         271\n",
              "95 2002-12-01         306\n",
              "\n",
              "[96 rows x 2 columns]"
            ]
          },
          "metadata": {},
          "execution_count": 4
        }
      ]
    },
    {
      "cell_type": "code",
      "metadata": {
        "colab": {
          "base_uri": "https://localhost:8080/"
        },
        "id": "bdf92a64",
        "outputId": "4387fba5-89a1-46ad-c1cc-589bac1be40c"
      },
      "source": [
        "df.info()"
      ],
      "id": "bdf92a64",
      "execution_count": 5,
      "outputs": [
        {
          "output_type": "stream",
          "text": [
            "<class 'pandas.core.frame.DataFrame'>\n",
            "RangeIndex: 96 entries, 0 to 95\n",
            "Data columns (total 2 columns):\n",
            " #   Column      Non-Null Count  Dtype         \n",
            "---  ------      --------------  -----         \n",
            " 0   Month       96 non-null     datetime64[ns]\n",
            " 1   Passengers  96 non-null     int64         \n",
            "dtypes: datetime64[ns](1), int64(1)\n",
            "memory usage: 1.6 KB\n"
          ],
          "name": "stdout"
        }
      ]
    },
    {
      "cell_type": "code",
      "metadata": {
        "colab": {
          "base_uri": "https://localhost:8080/"
        },
        "id": "d828fe18",
        "outputId": "16e98638-4d13-4777-9b85-dd878f6ee86c"
      },
      "source": [
        "df.isnull().sum()"
      ],
      "id": "d828fe18",
      "execution_count": 6,
      "outputs": [
        {
          "output_type": "execute_result",
          "data": {
            "text/plain": [
              "Month         0\n",
              "Passengers    0\n",
              "dtype: int64"
            ]
          },
          "metadata": {},
          "execution_count": 6
        }
      ]
    },
    {
      "cell_type": "code",
      "metadata": {
        "colab": {
          "base_uri": "https://localhost:8080/"
        },
        "id": "aebd0aa7",
        "outputId": "4ba71a92-07e7-4aa6-d0af-667e1d18d003"
      },
      "source": [
        "df[df.duplicated()].shape"
      ],
      "id": "aebd0aa7",
      "execution_count": 7,
      "outputs": [
        {
          "output_type": "execute_result",
          "data": {
            "text/plain": [
              "(0, 2)"
            ]
          },
          "metadata": {},
          "execution_count": 7
        }
      ]
    },
    {
      "cell_type": "code",
      "metadata": {
        "colab": {
          "base_uri": "https://localhost:8080/",
          "height": 350
        },
        "id": "3134b281",
        "outputId": "892bd7d2-189d-4fb5-9f37-1daadcfc989a"
      },
      "source": [
        "sns.boxplot(\"Passengers\",data=df)"
      ],
      "id": "3134b281",
      "execution_count": 8,
      "outputs": [
        {
          "output_type": "stream",
          "text": [
            "/usr/local/lib/python3.7/dist-packages/seaborn/_decorators.py:43: FutureWarning: Pass the following variable as a keyword arg: x. From version 0.12, the only valid positional argument will be `data`, and passing other arguments without an explicit keyword will result in an error or misinterpretation.\n",
            "  FutureWarning\n"
          ],
          "name": "stderr"
        },
        {
          "output_type": "execute_result",
          "data": {
            "text/plain": [
              "<matplotlib.axes._subplots.AxesSubplot at 0x7f6a29268150>"
            ]
          },
          "metadata": {},
          "execution_count": 8
        },
        {
          "output_type": "display_data",
          "data": {
            "image/png": "[encoded data removed]",
            "text/plain": [
              "<Figure size 432x288 with 1 Axes>"
            ]
          },
          "metadata": {
            "needs_background": "light"
          }
        }
      ]
    },
    {
      "cell_type": "code",
      "metadata": {
        "id": "d79fdb65"
      },
      "source": [
        "Train = df.head(84)\n",
        "Test = df.tail(12)"
      ],
      "id": "d79fdb65",
      "execution_count": 9,
      "outputs": []
    },
    {
      "cell_type": "markdown",
      "metadata": {
        "id": "d654cdc3"
      },
      "source": [
        "# moving average"
      ],
      "id": "d654cdc3"
    },
    {
      "cell_type": "code",
      "metadata": {
        "colab": {
          "base_uri": "https://localhost:8080/",
          "height": 282
        },
        "id": "99627990",
        "outputId": "a273a89d-2f72-4113-bc2a-b63119cc7004"
      },
      "source": [
        "df.Passengers.plot(label=\"org\")\n",
        "for i in range(2,10,5):\n",
        "    df[\"Passengers\"].rolling(i).mean().plot(label=str(i))\n",
        "plt.legend(loc='best')"
      ],
      "id": "99627990",
      "execution_count": 10,
      "outputs": [
        {
          "output_type": "execute_result",
          "data": {
            "text/plain": [
              "<matplotlib.legend.Legend at 0x7f6a27426210>"
            ]
          },
          "metadata": {},
          "execution_count": 10
        },
        {
          "output_type": "display_data",
          "data": {
            "image/png": "[encoded data removed]",
            "text/plain": [
              "<Figure size 432x288 with 1 Axes>"
            ]
          },
          "metadata": {
            "needs_background": "light"
          }
        }
      ]
    },
    {
      "cell_type": "markdown",
      "metadata": {
        "id": "e5b72a54"
      },
      "source": [
        "# Time series decomposition plot"
      ],
      "id": "e5b72a54"
    },
    {
      "cell_type": "code",
      "metadata": {
        "colab": {
          "base_uri": "https://localhost:8080/",
          "height": 297
        },
        "id": "35a20fb8",
        "outputId": "9d3fce59-fa75-4e88-b944-fb74092a2dbb"
      },
      "source": [
        "decompose_ts_add = seasonal_decompose(df.Passengers,freq= 12)\n",
        "decompose_ts_add.plot()\n",
        "plt.show()"
      ],
      "id": "35a20fb8",
      "execution_count": 11,
      "outputs": [
        {
          "output_type": "display_data",
          "data": {
            "image/png": "[encoded data removed]",
            "text/plain": [
              "<Figure size 432x288 with 4 Axes>"
            ]
          },
          "metadata": {
            "needs_background": "light"
          }
        }
      ]
    },
    {
      "cell_type": "markdown",
      "metadata": {
        "id": "c4c118fb"
      },
      "source": [
        "# ACF plots and PACF plots"
      ],
      "id": "c4c118fb"
    },
    {
      "cell_type": "code",
      "metadata": {
        "colab": {
          "base_uri": "https://localhost:8080/",
          "height": 545
        },
        "id": "012c9ceb",
        "outputId": "0da7884c-13ae-498d-8575-ef6f7bef6156"
      },
      "source": [
        "import statsmodels.graphics.tsaplots as tsa_plots\n",
        "tsa_plots.plot_acf(df.Passengers,lags=12)\n",
        "tsa_plots.plot_pacf(df.Passengers,lags=12)\n",
        "plt.show()"
      ],
      "id": "012c9ceb",
      "execution_count": 12,
      "outputs": [
        {
          "output_type": "display_data",
          "data": {
            "image/png": "[encoded data removed]",
            "text/plain": [
              "<Figure size 432x288 with 1 Axes>"
            ]
          },
          "metadata": {
            "needs_background": "light"
          }
        },
        {
          "output_type": "display_data",
          "data": {
            "image/png": "[encoded data removed]",
            "text/plain": [
              "<Figure size 432x288 with 1 Axes>"
            ]
          },
          "metadata": {
            "needs_background": "light"
          }
        }
      ]
    },
    {
      "cell_type": "markdown",
      "metadata": {
        "id": "e68fb8d5"
      },
      "source": [
        "# Evaluation Metric MAPE"
      ],
      "id": "e68fb8d5"
    },
    {
      "cell_type": "code",
      "metadata": {
        "id": "d4cf0c61"
      },
      "source": [
        "def MAPE(pred,org):\n",
        "    temp = np.abs((pred-org)/org)*100\n",
        "    return np.mean(temp)"
      ],
      "id": "d4cf0c61",
      "execution_count": 13,
      "outputs": []
    },
    {
      "cell_type": "markdown",
      "metadata": {
        "id": "f39be298"
      },
      "source": [
        "# Simple Exponential Method"
      ],
      "id": "f39be298"
    },
    {
      "cell_type": "code",
      "metadata": {
        "colab": {
          "base_uri": "https://localhost:8080/"
        },
        "id": "b6ccc5b4",
        "outputId": "6bf26cef-8552-4d17-9212-e4bd33aa39b1"
      },
      "source": [
        "ses_model = SimpleExpSmoothing(Train[\"Passengers\"]).fit(smoothing_level=0.2)\n",
        "pred_ses = ses_model.predict(start = Test.index[0],end = Test.index[-1])\n",
        "MAPE(pred_ses,Test.Passengers) "
      ],
      "id": "b6ccc5b4",
      "execution_count": 14,
      "outputs": [
        {
          "output_type": "execute_result",
          "data": {
            "text/plain": [
              "13.411274740513653"
            ]
          },
          "metadata": {},
          "execution_count": 14
        }
      ]
    },
    {
      "cell_type": "markdown",
      "metadata": {
        "id": "d5cf3c77"
      },
      "source": [
        "# Holt method"
      ],
      "id": "d5cf3c77"
    },
    {
      "cell_type": "code",
      "metadata": {
        "colab": {
          "base_uri": "https://localhost:8080/"
        },
        "id": "52af820f",
        "outputId": "b721d426-be1a-42b3-81f2-20bd7a58866a"
      },
      "source": [
        "hw_model = Holt(Train[\"Passengers\"]).fit(smoothing_level=0.8, smoothing_slope=0.2)\n",
        "pred_hw = hw_model.predict(start = Test.index[0],end = Test.index[-1])\n",
        "MAPE(pred_hw,Test.Passengers)"
      ],
      "id": "52af820f",
      "execution_count": 15,
      "outputs": [
        {
          "output_type": "execute_result",
          "data": {
            "text/plain": [
              "23.530719652099922"
            ]
          },
          "metadata": {},
          "execution_count": 15
        }
      ]
    },
    {
      "cell_type": "markdown",
      "metadata": {
        "id": "2e3cc701"
      },
      "source": [
        "# Holts winter exponential smoothing with additive seasonality and additive trend"
      ],
      "id": "2e3cc701"
    },
    {
      "cell_type": "code",
      "metadata": {
        "colab": {
          "base_uri": "https://localhost:8080/"
        },
        "id": "03109ef7",
        "outputId": "077e57b0-0b55-4025-9854-006c7ac2d4b6"
      },
      "source": [
        "hwe_model_add_add = ExponentialSmoothing(Train[\"Passengers\"],seasonal=\"add\",trend=\"add\",seasonal_periods=12).fit()\n",
        "pred_hwe_add_add = hwe_model_add_add.predict(start = Test.index[0],end = Test.index[-1])\n",
        "MAPE(pred_hwe_add_add,Test.Passengers)"
      ],
      "id": "03109ef7",
      "execution_count": 16,
      "outputs": [
        {
          "output_type": "stream",
          "text": [
            "/usr/local/lib/python3.7/dist-packages/statsmodels/tsa/holtwinters.py:712: ConvergenceWarning: Optimization failed to converge. Check mle_retvals.\n",
            "  ConvergenceWarning)\n"
          ],
          "name": "stderr"
        },
        {
          "output_type": "execute_result",
          "data": {
            "text/plain": [
              "1.6177582345226866"
            ]
          },
          "metadata": {},
          "execution_count": 16
        }
      ]
    },
    {
      "cell_type": "markdown",
      "metadata": {
        "id": "7627dcf8"
      },
      "source": [
        "# Holts winter exponential smoothing with multiplicative seasonality and additive trend"
      ],
      "id": "7627dcf8"
    },
    {
      "cell_type": "code",
      "metadata": {
        "colab": {
          "base_uri": "https://localhost:8080/"
        },
        "id": "9f659f11",
        "outputId": "41e9da31-a52c-491a-87a7-86d9177b29c1"
      },
      "source": [
        "hwe_model_mul_add = ExponentialSmoothing(Train[\"Passengers\"],seasonal=\"mul\",trend=\"add\",seasonal_periods=12).fit() \n",
        "pred_hwe_mul_add = hwe_model_mul_add.predict(start = Test.index[0],end = Test.index[-1])\n",
        "MAPE(pred_hwe_mul_add,Test.Passengers)"
      ],
      "id": "9f659f11",
      "execution_count": 17,
      "outputs": [
        {
          "output_type": "execute_result",
          "data": {
            "text/plain": [
              "2.8203589155579554"
            ]
          },
          "metadata": {},
          "execution_count": 17
        }
      ]
    },
    {
      "cell_type": "markdown",
      "metadata": {
        "id": "62249539"
      },
      "source": [
        "# Final Model by combining train and test"
      ],
      "id": "62249539"
    },
    {
      "cell_type": "code",
      "metadata": {
        "colab": {
          "base_uri": "https://localhost:8080/"
        },
        "id": "82001306",
        "outputId": "c5aed58c-1f97-4a0d-d4f1-7247fa11e9de"
      },
      "source": [
        "hwe_model_add_add = ExponentialSmoothing(df[\"Passengers\"],seasonal=\"add\",trend=\"add\",seasonal_periods=12).fit()"
      ],
      "id": "82001306",
      "execution_count": 18,
      "outputs": [
        {
          "output_type": "stream",
          "text": [
            "/usr/local/lib/python3.7/dist-packages/statsmodels/tsa/holtwinters.py:712: ConvergenceWarning: Optimization failed to converge. Check mle_retvals.\n",
            "  ConvergenceWarning)\n"
          ],
          "name": "stderr"
        }
      ]
    },
    {
      "cell_type": "code",
      "metadata": {
        "colab": {
          "base_uri": "https://localhost:8080/"
        },
        "id": "d48a0f4d",
        "outputId": "63694497-f633-40a3-f0f2-59ab4eccb19b"
      },
      "source": [
        "#Forecasting for next 10 time periods\n",
        "hwe_model_add_add.forecast(10)"
      ],
      "id": "d48a0f4d",
      "execution_count": 19,
      "outputs": [
        {
          "output_type": "execute_result",
          "data": {
            "text/plain": [
              "96     320.924021\n",
              "97     313.638039\n",
              "98     352.925020\n",
              "99     350.350301\n",
              "100    356.060923\n",
              "101    408.899129\n",
              "102    446.143114\n",
              "103    433.358026\n",
              "104    382.762460\n",
              "105    336.170254\n",
              "dtype: float64"
            ]
          },
          "metadata": {},
          "execution_count": 19
        }
      ]
    },
    {
      "cell_type": "code",
      "metadata": {
        "colab": {
          "base_uri": "https://localhost:8080/",
          "height": 282
        },
        "id": "68b5650c",
        "outputId": "5a7bba2f-6d07-40b5-cf57-f1e29fa559d7"
      },
      "source": [
        "# Visualization of Forecasted values for Test data set using different methods \n",
        "plt.plot(Train.index, Train[\"Passengers\"], label='Train',color=\"black\")\n",
        "plt.plot(Test.index, Test[\"Passengers\"], label='Test',color=\"blue\")\n",
        "plt.plot(pred_ses.index, pred_ses, label='SimpleExponential',color=\"green\")\n",
        "plt.plot(pred_hw.index, pred_hw, label='Holts_winter',color=\"red\")\n",
        "plt.plot(pred_hwe_add_add.index,pred_hwe_add_add,label=\"HoltsWinterExponential_1\",color=\"brown\")\n",
        "plt.plot(pred_hwe_mul_add.index,pred_hwe_mul_add,label=\"HoltsWinterExponential_2\",color=\"yellow\")\n",
        "plt.legend(loc='best')"
      ],
      "id": "68b5650c",
      "execution_count": 20,
      "outputs": [
        {
          "output_type": "execute_result",
          "data": {
            "text/plain": [
              "<matplotlib.legend.Legend at 0x7f6a1d52b6d0>"
            ]
          },
          "metadata": {},
          "execution_count": 20
        },
        {
          "output_type": "display_data",
          "data": {
            "image/png": "[encoded data removed]",
            "text/plain": [
              "<Figure size 432x288 with 1 Axes>"
            ]
          },
          "metadata": {
            "needs_background": "light"
          }
        }
      ]
    },
    {
      "cell_type": "code",
      "metadata": {
        "id": "ce5d3b9f"
      },
      "source": [
        ""
      ],
      "id": "ce5d3b9f",
      "execution_count": null,
      "outputs": []
    }
  ]
}