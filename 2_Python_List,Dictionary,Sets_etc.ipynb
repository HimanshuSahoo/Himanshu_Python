{
  "nbformat": 4,
  "nbformat_minor": 5,
  "metadata": {
    "kernelspec": {
      "display_name": "Python 3",
      "language": "python",
      "name": "python3"
    },
    "language_info": {
      "codemirror_mode": {
        "name": "ipython",
        "version": 3
      },
      "file_extension": ".py",
      "mimetype": "text/x-python",
      "name": "python",
      "nbconvert_exporter": "python",
      "pygments_lexer": "ipython3",
      "version": "3.8.8"
    },
    "toc": {
      "base_numbering": 1,
      "nav_menu": {},
      "number_sections": true,
      "sideBar": true,
      "skip_h1_title": false,
      "title_cell": "Table of Contents",
      "title_sidebar": "Contents",
      "toc_cell": false,
      "toc_position": {},
      "toc_section_display": true,
      "toc_window_display": false
    },
    "varInspector": {
      "cols": {
        "lenName": 16,
        "lenType": 16,
        "lenVar": 40
      },
      "kernels_config": {
        "python": {
          "delete_cmd_postfix": "",
          "delete_cmd_prefix": "del ",
          "library": "var_list.py",
          "varRefreshCmd": "print(var_dic_list())"
        },
        "r": {
          "delete_cmd_postfix": ") ",
          "delete_cmd_prefix": "rm(",
          "library": "var_list.r",
          "varRefreshCmd": "cat(var_dic_list()) "
        }
      },
      "types_to_exclude": [
        "module",
        "function",
        "builtin_function_or_method",
        "instance",
        "_Feature"
      ],
      "window_display": false
    },
    "colab": {
      "name": "2-Python List,Dictionary,Sets etc.ipynb",
      "provenance": [],
      "include_colab_link": true
    }
  },
  "cells": [
    {
      "cell_type": "markdown",
      "metadata": {
        "id": "view-in-github",
        "colab_type": "text"
      },
      "source": [
        "<a href=\"https://colab.research.google.com/github/HimanshuSahoo/Himanshu_Python/blob/main/2_Python_List%2CDictionary%2CSets_etc.ipynb\" target=\"_parent\"><img src=\"https://colab.research.google.com/assets/colab-badge.svg\" alt=\"Open In Colab\"/></a>"
      ]
    },
    {
      "cell_type": "markdown",
      "metadata": {
        "id": "5f6d35a1"
      },
      "source": [
        "Python Data Structures and Boolean\n",
        "\n",
        "\n",
        "Boolean\n",
        "Boolean and Logical Operators\n",
        "Lists\n",
        "Comparison operators\n",
        "Dictionaries\n",
        "Tuples\n",
        "Sets\n",
        "Boolean Variables\n",
        "Boolean values are the two constant objects False and True.\n",
        "\n",
        "They are used to represent truth values (other values can also be considered false or true).\n",
        "\n",
        "In numeric contexts (for example, when used as the argument to an arithmetic operator), they behave like the integers 0 and 1, respectively.\n",
        "\n",
        "The built-in function bool() can be used to cast any value to a Boolean, if the value can be interpreted as a truth value\n",
        "\n",
        "They are written as False and True, respectively."
      ],
      "id": "5f6d35a1"
    },
    {
      "cell_type": "code",
      "metadata": {
        "scrolled": true,
        "id": "bbeb55f2",
        "outputId": "47d01c2d-76a2-4ff8-83ce-c9a9fd475948"
      },
      "source": [
        "False"
      ],
      "id": "bbeb55f2",
      "execution_count": null,
      "outputs": [
        {
          "data": {
            "text/plain": [
              "False"
            ]
          },
          "execution_count": 4,
          "metadata": {},
          "output_type": "execute_result"
        }
      ]
    },
    {
      "cell_type": "code",
      "metadata": {
        "id": "26a2ab12",
        "outputId": "8af59360-5640-444b-cf4b-3dd7d834ba1d"
      },
      "source": [
        "print(True,False)"
      ],
      "id": "26a2ab12",
      "execution_count": null,
      "outputs": [
        {
          "name": "stdout",
          "output_type": "stream",
          "text": [
            "True False\n"
          ]
        }
      ]
    },
    {
      "cell_type": "code",
      "metadata": {
        "id": "b0700608"
      },
      "source": [
        "type(True)"
      ],
      "id": "b0700608",
      "execution_count": null,
      "outputs": []
    },
    {
      "cell_type": "code",
      "metadata": {
        "id": "8d791b34",
        "outputId": "2e524c97-14d3-4d54-d92d-641d8d53e06a"
      },
      "source": [
        "\n",
        "type(False)"
      ],
      "id": "8d791b34",
      "execution_count": null,
      "outputs": [
        {
          "data": {
            "text/plain": [
              "bool"
            ]
          },
          "execution_count": 5,
          "metadata": {},
          "output_type": "execute_result"
        }
      ]
    },
    {
      "cell_type": "code",
      "metadata": {
        "id": "ee3c3cd0"
      },
      "source": [
        "my_str='Krish123'"
      ],
      "id": "ee3c3cd0",
      "execution_count": null,
      "outputs": []
    },
    {
      "cell_type": "code",
      "metadata": {
        "id": "45a7815b",
        "outputId": "cb60319c-98b3-4e9f-8734-caa634ae80dc"
      },
      "source": [
        "my_str.istitle()"
      ],
      "id": "45a7815b",
      "execution_count": null,
      "outputs": [
        {
          "data": {
            "text/plain": [
              "True"
            ]
          },
          "execution_count": 7,
          "metadata": {},
          "output_type": "execute_result"
        }
      ]
    },
    {
      "cell_type": "code",
      "metadata": {
        "id": "c6b4b862",
        "outputId": "cf2bfb55-34ed-4d01-b7b0-b3a78862927a"
      },
      "source": [
        "print(my_str.isalnum()) #check if all char are numbers\n",
        "print(my_str.isalpha()) #check if all char in the string are alphabetic\n",
        "print(my_str.isdigit()) #test if string contains digits\n",
        "print(my_str.istitle()) #test if string contains title words\n",
        "print(my_str.isupper()) #test if string contains upper case\n",
        "print(my_str.islower()) #test if string contains lower case\n",
        "print(my_str.isspace()) #test if string contains spaces\n",
        "print(my_str.endswith('k')) #test if string endswith a d\n",
        "print(my_str.startswith('K')) #test if string startswith H"
      ],
      "id": "c6b4b862",
      "execution_count": null,
      "outputs": [
        {
          "name": "stdout",
          "output_type": "stream",
          "text": [
            "True\n",
            "False\n",
            "False\n",
            "True\n",
            "False\n",
            "False\n",
            "False\n",
            "False\n",
            "True\n"
          ]
        }
      ]
    },
    {
      "cell_type": "markdown",
      "metadata": {
        "id": "8f31f0f9"
      },
      "source": [
        "Boolean and Logical Operators"
      ],
      "id": "8f31f0f9"
    },
    {
      "cell_type": "code",
      "metadata": {
        "id": "3ebe38c5",
        "outputId": "2334854d-8036-475a-aac2-ab6229988473"
      },
      "source": [
        "True and True"
      ],
      "id": "3ebe38c5",
      "execution_count": null,
      "outputs": [
        {
          "data": {
            "text/plain": [
              "True"
            ]
          },
          "execution_count": 9,
          "metadata": {},
          "output_type": "execute_result"
        }
      ]
    },
    {
      "cell_type": "code",
      "metadata": {
        "id": "b739c44e"
      },
      "source": [
        "\n",
        "str_example='Hello World'\n",
        "my_str='Krish'"
      ],
      "id": "b739c44e",
      "execution_count": null,
      "outputs": []
    },
    {
      "cell_type": "code",
      "metadata": {
        "id": "d0f49f38",
        "outputId": "0806ae8d-3e94-4bb4-a2a8-2572cc25103c"
      },
      "source": [
        "my_str.isalpha() or str_example.isnum()"
      ],
      "id": "d0f49f38",
      "execution_count": null,
      "outputs": [
        {
          "data": {
            "text/plain": [
              "True"
            ]
          },
          "execution_count": 11,
          "metadata": {},
          "output_type": "execute_result"
        }
      ]
    },
    {
      "cell_type": "markdown",
      "metadata": {
        "id": "f359cf57"
      },
      "source": [
        "Lists\n",
        "\n",
        "A list is a data structure in Python that is a mutable, or changeable, ordered sequence of elements. Each element or value that is inside of a list is called an item. Just as strings are defined as characters between quotes, lists are defined by having values between square brackets [ ]"
      ],
      "id": "f359cf57"
    },
    {
      "cell_type": "code",
      "metadata": {
        "id": "fae5dbb1",
        "outputId": "8e4489b1-26f7-4d32-d202-d8c1dfc822b3"
      },
      "source": [
        "\n",
        "type([])"
      ],
      "id": "fae5dbb1",
      "execution_count": null,
      "outputs": [
        {
          "data": {
            "text/plain": [
              "list"
            ]
          },
          "execution_count": 13,
          "metadata": {},
          "output_type": "execute_result"
        }
      ]
    },
    {
      "cell_type": "code",
      "metadata": {
        "id": "1024b96a"
      },
      "source": [
        "lst_example=[]"
      ],
      "id": "1024b96a",
      "execution_count": null,
      "outputs": []
    },
    {
      "cell_type": "code",
      "metadata": {
        "id": "7cff4ccb",
        "outputId": "2415487b-c4e1-4b62-dca8-4b723f02b5d9"
      },
      "source": [
        "type(lst_example)"
      ],
      "id": "7cff4ccb",
      "execution_count": null,
      "outputs": [
        {
          "data": {
            "text/plain": [
              "list"
            ]
          },
          "execution_count": 15,
          "metadata": {},
          "output_type": "execute_result"
        }
      ]
    },
    {
      "cell_type": "code",
      "metadata": {
        "id": "83639504"
      },
      "source": [
        "lst=list()"
      ],
      "id": "83639504",
      "execution_count": null,
      "outputs": []
    },
    {
      "cell_type": "code",
      "metadata": {
        "id": "0dd2dc88",
        "outputId": "c281ae91-26d8-4f99-fba0-cab7322799b0"
      },
      "source": [
        "type(lst)"
      ],
      "id": "0dd2dc88",
      "execution_count": null,
      "outputs": [
        {
          "data": {
            "text/plain": [
              "list"
            ]
          },
          "execution_count": 17,
          "metadata": {},
          "output_type": "execute_result"
        }
      ]
    },
    {
      "cell_type": "code",
      "metadata": {
        "id": "3293d7d1"
      },
      "source": [
        "lst=['Mathematics', 'chemistry', 100, 200, 300, 204]"
      ],
      "id": "3293d7d1",
      "execution_count": null,
      "outputs": []
    },
    {
      "cell_type": "code",
      "metadata": {
        "id": "8203563b",
        "outputId": "100ce48d-f290-4128-a825-fd2677189721"
      },
      "source": [
        "len(lst)"
      ],
      "id": "8203563b",
      "execution_count": null,
      "outputs": [
        {
          "data": {
            "text/plain": [
              "6"
            ]
          },
          "execution_count": 19,
          "metadata": {},
          "output_type": "execute_result"
        }
      ]
    },
    {
      "cell_type": "code",
      "metadata": {
        "id": "eefe6729",
        "outputId": "7427a666-4f62-4f69-d4c4-c0860a76a5a3"
      },
      "source": [
        "type(lst)"
      ],
      "id": "eefe6729",
      "execution_count": null,
      "outputs": [
        {
          "data": {
            "text/plain": [
              "list"
            ]
          },
          "execution_count": 20,
          "metadata": {},
          "output_type": "execute_result"
        }
      ]
    },
    {
      "cell_type": "markdown",
      "metadata": {
        "id": "92e6076a"
      },
      "source": [
        " Append"
      ],
      "id": "92e6076a"
    },
    {
      "cell_type": "code",
      "metadata": {
        "id": "95641258"
      },
      "source": [
        "#.append is used to add elements in the list\n",
        "lst.append(\"Krish\")"
      ],
      "id": "95641258",
      "execution_count": null,
      "outputs": []
    },
    {
      "cell_type": "code",
      "metadata": {
        "id": "807ce7c9"
      },
      "source": [
        "lst.append([\"John\",\"Bala\"])"
      ],
      "id": "807ce7c9",
      "execution_count": null,
      "outputs": []
    },
    {
      "cell_type": "code",
      "metadata": {
        "id": "ffd4ac30",
        "outputId": "7267d593-0ce7-41cf-eb09-f39fd23a0e0c"
      },
      "source": [
        "\n",
        "lst"
      ],
      "id": "ffd4ac30",
      "execution_count": null,
      "outputs": [
        {
          "data": {
            "text/plain": [
              "['Mathematics', 'chemistry', 100, 200, 300, 204, 'Krish', ['John', 'Bala']]"
            ]
          },
          "execution_count": 23,
          "metadata": {},
          "output_type": "execute_result"
        }
      ]
    },
    {
      "cell_type": "code",
      "metadata": {
        "id": "7ba57271",
        "outputId": "4f1330f6-d50e-4452-f986-a0a504b7c711"
      },
      "source": [
        "##Indexing in List\n",
        "lst[6]"
      ],
      "id": "7ba57271",
      "execution_count": null,
      "outputs": [
        {
          "data": {
            "text/plain": [
              "'Krish'"
            ]
          },
          "execution_count": 24,
          "metadata": {},
          "output_type": "execute_result"
        }
      ]
    },
    {
      "cell_type": "code",
      "metadata": {
        "id": "82a6a50b",
        "outputId": "5b871292-6dcf-4ee1-f6ca-955d24aa27ce"
      },
      "source": [
        "lst[1:6]"
      ],
      "id": "82a6a50b",
      "execution_count": null,
      "outputs": [
        {
          "data": {
            "text/plain": [
              "['chemistry', 100, 200, 300, 204]"
            ]
          },
          "execution_count": 25,
          "metadata": {},
          "output_type": "execute_result"
        }
      ]
    },
    {
      "cell_type": "markdown",
      "metadata": {
        "id": "da4ebb06"
      },
      "source": [
        "Insert"
      ],
      "id": "da4ebb06"
    },
    {
      "cell_type": "code",
      "metadata": {
        "id": "9d795ff2"
      },
      "source": [
        "\n",
        "## insert in a specific order\n",
        "\n",
        "lst.insert(2,\"Naik\")"
      ],
      "id": "9d795ff2",
      "execution_count": null,
      "outputs": []
    },
    {
      "cell_type": "code",
      "metadata": {
        "id": "729ca441",
        "outputId": "a333fe09-db45-4346-f97c-4cdda3ceb4d3"
      },
      "source": [
        "\n",
        "lst"
      ],
      "id": "729ca441",
      "execution_count": null,
      "outputs": [
        {
          "data": {
            "text/plain": [
              "['Mathematics',\n",
              " 'chemistry',\n",
              " 'Naik',\n",
              " 100,\n",
              " 200,\n",
              " 300,\n",
              " 204,\n",
              " 'Krish',\n",
              " ['John', 'Bala']]"
            ]
          },
          "execution_count": 27,
          "metadata": {},
          "output_type": "execute_result"
        }
      ]
    },
    {
      "cell_type": "code",
      "metadata": {
        "id": "b3c2e819"
      },
      "source": [
        "lst.append([\"Hello\",\"World\"])"
      ],
      "id": "b3c2e819",
      "execution_count": null,
      "outputs": []
    },
    {
      "cell_type": "code",
      "metadata": {
        "id": "debf8f27",
        "outputId": "bb56fb8f-79ed-4c79-8476-d02e264078e3"
      },
      "source": [
        "lst"
      ],
      "id": "debf8f27",
      "execution_count": null,
      "outputs": [
        {
          "data": {
            "text/plain": [
              "['Mathematics',\n",
              " 'chemistry',\n",
              " 'Naik',\n",
              " 100,\n",
              " 200,\n",
              " 300,\n",
              " 204,\n",
              " 'Krish',\n",
              " ['John', 'Bala'],\n",
              " ['Hello', 'World']]"
            ]
          },
          "execution_count": 29,
          "metadata": {},
          "output_type": "execute_result"
        }
      ]
    },
    {
      "cell_type": "code",
      "metadata": {
        "id": "6412479f"
      },
      "source": [
        "lst=[1,2,3]"
      ],
      "id": "6412479f",
      "execution_count": null,
      "outputs": []
    },
    {
      "cell_type": "code",
      "metadata": {
        "id": "1121c05f"
      },
      "source": [
        "lst.append([4,5])"
      ],
      "id": "1121c05f",
      "execution_count": null,
      "outputs": []
    },
    {
      "cell_type": "code",
      "metadata": {
        "id": "653ca1ab",
        "outputId": "f54afeec-fdd0-4858-b9ca-be5a0035fb15"
      },
      "source": [
        "lst"
      ],
      "id": "653ca1ab",
      "execution_count": null,
      "outputs": [
        {
          "data": {
            "text/plain": [
              "[1, 2, 3, [4, 5]]"
            ]
          },
          "execution_count": 32,
          "metadata": {},
          "output_type": "execute_result"
        }
      ]
    },
    {
      "cell_type": "markdown",
      "metadata": {
        "id": "dd16b210"
      },
      "source": [
        "Extend Method"
      ],
      "id": "dd16b210"
    },
    {
      "cell_type": "code",
      "metadata": {
        "id": "84cdc87e"
      },
      "source": [
        "\n",
        "lst=[1,2,3,4,5,6]"
      ],
      "id": "84cdc87e",
      "execution_count": null,
      "outputs": []
    },
    {
      "cell_type": "code",
      "metadata": {
        "id": "2c3044f9"
      },
      "source": [
        "lst.extend([8,9])"
      ],
      "id": "2c3044f9",
      "execution_count": null,
      "outputs": []
    },
    {
      "cell_type": "code",
      "metadata": {
        "id": "c6bfee76",
        "outputId": "08a5bf70-fd4b-4245-d10c-800400c6586d"
      },
      "source": [
        "lst"
      ],
      "id": "c6bfee76",
      "execution_count": null,
      "outputs": [
        {
          "data": {
            "text/plain": [
              "[1, 2, 3, 4, 5, 6, 8, 9]"
            ]
          },
          "execution_count": 35,
          "metadata": {},
          "output_type": "execute_result"
        }
      ]
    },
    {
      "cell_type": "markdown",
      "metadata": {
        "id": "11aad45a"
      },
      "source": [
        "Various Operations that we can perform in List"
      ],
      "id": "11aad45a"
    },
    {
      "cell_type": "code",
      "metadata": {
        "id": "b8eb58f1"
      },
      "source": [
        "lst=[1,2,3,4,5]"
      ],
      "id": "b8eb58f1",
      "execution_count": null,
      "outputs": []
    },
    {
      "cell_type": "code",
      "metadata": {
        "id": "f58407d3",
        "outputId": "84a1f649-806b-4e7d-bc44-d5e6d0c47801"
      },
      "source": [
        "sum(lst)"
      ],
      "id": "f58407d3",
      "execution_count": null,
      "outputs": [
        {
          "data": {
            "text/plain": [
              "15"
            ]
          },
          "execution_count": 37,
          "metadata": {},
          "output_type": "execute_result"
        }
      ]
    },
    {
      "cell_type": "code",
      "metadata": {
        "id": "95dbbbf7",
        "outputId": "8494efeb-3001-44db-a6e5-4cd85cdfba6f"
      },
      "source": [
        "lst*5"
      ],
      "id": "95dbbbf7",
      "execution_count": null,
      "outputs": [
        {
          "data": {
            "text/plain": [
              "[1, 2, 3, 4, 5, 1, 2, 3, 4, 5, 1, 2, 3, 4, 5, 1, 2, 3, 4, 5, 1, 2, 3, 4, 5]"
            ]
          },
          "execution_count": 38,
          "metadata": {},
          "output_type": "execute_result"
        }
      ]
    },
    {
      "cell_type": "markdown",
      "metadata": {
        "id": "8fff65a3"
      },
      "source": [
        "Pop() Method"
      ],
      "id": "8fff65a3"
    },
    {
      "cell_type": "code",
      "metadata": {
        "id": "ef17b40b",
        "outputId": "3e5ed5a9-af52-4d09-c4e3-fd639d8b0e60"
      },
      "source": [
        "lst.pop()"
      ],
      "id": "ef17b40b",
      "execution_count": null,
      "outputs": [
        {
          "data": {
            "text/plain": [
              "5"
            ]
          },
          "execution_count": 40,
          "metadata": {},
          "output_type": "execute_result"
        }
      ]
    },
    {
      "cell_type": "code",
      "metadata": {
        "id": "e3cc80ba",
        "outputId": "38ec28cb-5e3a-474b-c564-08f285ee5544"
      },
      "source": [
        "lst"
      ],
      "id": "e3cc80ba",
      "execution_count": null,
      "outputs": [
        {
          "data": {
            "text/plain": [
              "[1, 2, 3, 4]"
            ]
          },
          "execution_count": 41,
          "metadata": {},
          "output_type": "execute_result"
        }
      ]
    },
    {
      "cell_type": "code",
      "metadata": {
        "id": "6787a339",
        "outputId": "3319a29a-1a70-4aff-b8b8-aa22666fc8ed"
      },
      "source": [
        "lst.pop(0)"
      ],
      "id": "6787a339",
      "execution_count": null,
      "outputs": [
        {
          "data": {
            "text/plain": [
              "1"
            ]
          },
          "execution_count": 42,
          "metadata": {},
          "output_type": "execute_result"
        }
      ]
    },
    {
      "cell_type": "code",
      "metadata": {
        "id": "f76c1acf",
        "outputId": "7a5a144a-0eb3-4e74-8a00-24be715a3933"
      },
      "source": [
        "lst"
      ],
      "id": "f76c1acf",
      "execution_count": null,
      "outputs": [
        {
          "data": {
            "text/plain": [
              "[2, 3, 4]"
            ]
          },
          "execution_count": 43,
          "metadata": {},
          "output_type": "execute_result"
        }
      ]
    },
    {
      "cell_type": "markdown",
      "metadata": {
        "id": "115ae28b"
      },
      "source": [
        "count():Calculates total occurrence of given element of List"
      ],
      "id": "115ae28b"
    },
    {
      "cell_type": "code",
      "metadata": {
        "id": "e5afc116",
        "outputId": "01d8c472-4de4-4033-a36d-2500c90ce766"
      },
      "source": [
        "lst=[1,1,2,3,4,5]\n",
        "lst.count(1)"
      ],
      "id": "e5afc116",
      "execution_count": null,
      "outputs": [
        {
          "data": {
            "text/plain": [
              "2"
            ]
          },
          "execution_count": 44,
          "metadata": {},
          "output_type": "execute_result"
        }
      ]
    },
    {
      "cell_type": "code",
      "metadata": {
        "id": "3bd89223",
        "outputId": "7ca23fc3-8ae3-47bf-cfe1-0eb78339e78e"
      },
      "source": [
        "#length:Calculates total length of List\n",
        "len(lst)"
      ],
      "id": "3bd89223",
      "execution_count": null,
      "outputs": [
        {
          "data": {
            "text/plain": [
              "6"
            ]
          },
          "execution_count": 45,
          "metadata": {},
          "output_type": "execute_result"
        }
      ]
    },
    {
      "cell_type": "code",
      "metadata": {
        "id": "0c995277",
        "outputId": "b6c85ac0-7ae7-4ab9-ecd4-fbf7d92df648"
      },
      "source": [
        "# index(): Returns the index of first occurrence. Start and End index are not necessary parameters\n",
        "lst.index(1,1,4)"
      ],
      "id": "0c995277",
      "execution_count": null,
      "outputs": [
        {
          "data": {
            "text/plain": [
              "1"
            ]
          },
          "execution_count": 46,
          "metadata": {},
          "output_type": "execute_result"
        }
      ]
    },
    {
      "cell_type": "code",
      "metadata": {
        "id": "17ea472e",
        "outputId": "8d6f113d-22f8-43c2-d7f1-9188ef9d423c"
      },
      "source": [
        "##Min and Max\n",
        "min(lst)"
      ],
      "id": "17ea472e",
      "execution_count": null,
      "outputs": [
        {
          "data": {
            "text/plain": [
              "1"
            ]
          },
          "execution_count": 47,
          "metadata": {},
          "output_type": "execute_result"
        }
      ]
    },
    {
      "cell_type": "code",
      "metadata": {
        "id": "d2a0b6d6",
        "outputId": "b36c2a79-f70b-4803-c19f-9796c42ca58d"
      },
      "source": [
        "max(lst)"
      ],
      "id": "d2a0b6d6",
      "execution_count": null,
      "outputs": [
        {
          "data": {
            "text/plain": [
              "5"
            ]
          },
          "execution_count": 48,
          "metadata": {},
          "output_type": "execute_result"
        }
      ]
    },
    {
      "cell_type": "markdown",
      "metadata": {
        "id": "d7324c10"
      },
      "source": [
        "SETS\n",
        "\n",
        "A Set is an unordered collection data type that is iterable, mutable, and has no duplicate elements. Python's set class represents the mathematical notion of a set.This is based on a data structure known as a hash table"
      ],
      "id": "d7324c10"
    },
    {
      "cell_type": "code",
      "metadata": {
        "id": "1a0eb10a",
        "outputId": "2224a948-3a8a-474d-f7cb-ae245aec14e4"
      },
      "source": [
        "## Defining an empy set\n",
        "\n",
        "set_var= set()\n",
        "print(set_var)\n",
        "print(type(set_var))"
      ],
      "id": "1a0eb10a",
      "execution_count": null,
      "outputs": [
        {
          "name": "stdout",
          "output_type": "stream",
          "text": [
            "set()\n",
            "<class 'set'>\n"
          ]
        }
      ]
    },
    {
      "cell_type": "code",
      "metadata": {
        "id": "2224b835"
      },
      "source": [
        "set_var={1,2,3,4,3}"
      ],
      "id": "2224b835",
      "execution_count": null,
      "outputs": []
    },
    {
      "cell_type": "code",
      "metadata": {
        "id": "0894ea69",
        "outputId": "ef8c7fb1-45a3-4f52-a13a-d6adf0011eff"
      },
      "source": [
        "\n",
        "set_var"
      ],
      "id": "0894ea69",
      "execution_count": null,
      "outputs": [
        {
          "data": {
            "text/plain": [
              "{1, 2, 3, 4}"
            ]
          },
          "execution_count": 51,
          "metadata": {},
          "output_type": "execute_result"
        }
      ]
    },
    {
      "cell_type": "code",
      "metadata": {
        "id": "9d9ebee8",
        "outputId": "70514c2a-4aec-4b4e-989d-ff2550c1601c"
      },
      "source": [
        "set_var={\"Avengers\",\"IronMan\",'Hitman'}\n",
        "print(set_var)\n",
        "type(set_var)"
      ],
      "id": "9d9ebee8",
      "execution_count": null,
      "outputs": [
        {
          "name": "stdout",
          "output_type": "stream",
          "text": [
            "{'Hitman', 'Avengers', 'IronMan'}\n"
          ]
        },
        {
          "data": {
            "text/plain": [
              "set"
            ]
          },
          "execution_count": 52,
          "metadata": {},
          "output_type": "execute_result"
        }
      ]
    },
    {
      "cell_type": "code",
      "metadata": {
        "id": "4287c421"
      },
      "source": [
        "\n",
        "## Inbuilt function in sets\n",
        "\n",
        "set_var.add(\"Hulk\")"
      ],
      "id": "4287c421",
      "execution_count": null,
      "outputs": []
    },
    {
      "cell_type": "code",
      "metadata": {
        "id": "bfd7f4b3",
        "outputId": "eea76979-c6b4-4c5a-f076-6e990a0d8328"
      },
      "source": [
        "print(set_var)"
      ],
      "id": "bfd7f4b3",
      "execution_count": null,
      "outputs": [
        {
          "name": "stdout",
          "output_type": "stream",
          "text": [
            "{'Hulk', 'Hitman', 'Avengers', 'IronMan'}\n"
          ]
        }
      ]
    },
    {
      "cell_type": "code",
      "metadata": {
        "id": "ed2e9fd8"
      },
      "source": [
        "set1={\"Avengers\",\"IronMan\",'Hitman'}\n",
        "set2={\"Avengers\",\"IronMan\",'Hitman','Hulk2'}"
      ],
      "id": "ed2e9fd8",
      "execution_count": null,
      "outputs": []
    },
    {
      "cell_type": "code",
      "metadata": {
        "id": "60141b09"
      },
      "source": [
        "set2.intersection_update(set1)"
      ],
      "id": "60141b09",
      "execution_count": null,
      "outputs": []
    },
    {
      "cell_type": "code",
      "metadata": {
        "id": "82e64592",
        "outputId": "8dbd99b2-6011-46e3-e1ec-ec8c2ac778a3"
      },
      "source": [
        "set2"
      ],
      "id": "82e64592",
      "execution_count": null,
      "outputs": [
        {
          "data": {
            "text/plain": [
              "{'Avengers', 'Hitman', 'IronMan'}"
            ]
          },
          "execution_count": 58,
          "metadata": {},
          "output_type": "execute_result"
        }
      ]
    },
    {
      "cell_type": "code",
      "metadata": {
        "id": "bd4d7dbf",
        "outputId": "9b7b2b3e-d43b-48ce-8194-2f23a0d683f1"
      },
      "source": [
        "\n",
        "##Difference \n",
        "set2.difference(set1)"
      ],
      "id": "bd4d7dbf",
      "execution_count": null,
      "outputs": [
        {
          "data": {
            "text/plain": [
              "set()"
            ]
          },
          "execution_count": 59,
          "metadata": {},
          "output_type": "execute_result"
        }
      ]
    },
    {
      "cell_type": "code",
      "metadata": {
        "id": "d1544bc0",
        "outputId": "f656c118-a9cd-4718-9565-46810d385702"
      },
      "source": [
        "print(set2)"
      ],
      "id": "d1544bc0",
      "execution_count": null,
      "outputs": [
        {
          "name": "stdout",
          "output_type": "stream",
          "text": [
            "{'Hitman', 'Avengers', 'IronMan'}\n"
          ]
        }
      ]
    },
    {
      "cell_type": "markdown",
      "metadata": {
        "id": "e9e76050"
      },
      "source": [
        "Dictionaries\n",
        "\n",
        "A dictionary is a collection which is unordered, changeable and indexed. In Python dictionaries are written with curly brackets, and they have keys and values."
      ],
      "id": "e9e76050"
    },
    {
      "cell_type": "code",
      "metadata": {
        "id": "7fa0e46f"
      },
      "source": [
        "dic={}\n"
      ],
      "id": "7fa0e46f",
      "execution_count": null,
      "outputs": []
    },
    {
      "cell_type": "code",
      "metadata": {
        "id": "e8962d5f",
        "outputId": "84137d3c-7d55-43bb-ed4f-fe42133d8276"
      },
      "source": [
        "type(dic)"
      ],
      "id": "e8962d5f",
      "execution_count": null,
      "outputs": [
        {
          "data": {
            "text/plain": [
              "dict"
            ]
          },
          "execution_count": 62,
          "metadata": {},
          "output_type": "execute_result"
        }
      ]
    },
    {
      "cell_type": "code",
      "metadata": {
        "id": "b65ab7b1",
        "outputId": "66cfc1c9-bddf-4948-e993-7b3ace238db0"
      },
      "source": [
        "type(dict())"
      ],
      "id": "b65ab7b1",
      "execution_count": null,
      "outputs": [
        {
          "data": {
            "text/plain": [
              "dict"
            ]
          },
          "execution_count": 63,
          "metadata": {},
          "output_type": "execute_result"
        }
      ]
    },
    {
      "cell_type": "code",
      "metadata": {
        "id": "a8fa7cc7"
      },
      "source": [
        "set_ex={1,2,3,4,5}"
      ],
      "id": "a8fa7cc7",
      "execution_count": null,
      "outputs": []
    },
    {
      "cell_type": "code",
      "metadata": {
        "id": "212f0315",
        "outputId": "a3ba7917-a45c-41a5-8974-7302fdc17b14"
      },
      "source": [
        "type(set_ex)"
      ],
      "id": "212f0315",
      "execution_count": null,
      "outputs": [
        {
          "data": {
            "text/plain": [
              "set"
            ]
          },
          "execution_count": 65,
          "metadata": {},
          "output_type": "execute_result"
        }
      ]
    },
    {
      "cell_type": "code",
      "metadata": {
        "id": "e4f03a95"
      },
      "source": [
        "## Let create a dictionary\n",
        "\n",
        "my_dict={\"Car1\": \"Audi\", \"Car2\":\"BMW\",\"Car3\":\"Mercidies Benz\"}"
      ],
      "id": "e4f03a95",
      "execution_count": null,
      "outputs": []
    },
    {
      "cell_type": "code",
      "metadata": {
        "id": "b8d9f05d",
        "outputId": "579da935-f712-40e6-85d7-fdbaaab937bd"
      },
      "source": [
        "type(my_dict)"
      ],
      "id": "b8d9f05d",
      "execution_count": null,
      "outputs": [
        {
          "data": {
            "text/plain": [
              "dict"
            ]
          },
          "execution_count": 67,
          "metadata": {},
          "output_type": "execute_result"
        }
      ]
    },
    {
      "cell_type": "code",
      "metadata": {
        "id": "efb1b840",
        "outputId": "725de964-cc4a-434a-98d6-da3fc134d246"
      },
      "source": [
        "\n",
        "##Access the item values based on keys\n",
        "\n",
        "my_dict['Car1']"
      ],
      "id": "efb1b840",
      "execution_count": null,
      "outputs": [
        {
          "data": {
            "text/plain": [
              "'Audi'"
            ]
          },
          "execution_count": 68,
          "metadata": {},
          "output_type": "execute_result"
        }
      ]
    },
    {
      "cell_type": "code",
      "metadata": {
        "id": "e2c8bad8",
        "outputId": "8227c2aa-3965-4725-dbb6-9ea103995abf"
      },
      "source": [
        "\n",
        "# We can even loop throught the dictionaries keys\n",
        "\n",
        "for x in my_dict:\n",
        "    print(x)"
      ],
      "id": "e2c8bad8",
      "execution_count": null,
      "outputs": [
        {
          "name": "stdout",
          "output_type": "stream",
          "text": [
            "Car1\n",
            "Car2\n",
            "Car3\n"
          ]
        }
      ]
    },
    {
      "cell_type": "code",
      "metadata": {
        "id": "907f77e6",
        "outputId": "a53a48c4-4418-4949-c450-16de26575e59"
      },
      "source": [
        "# We can even loop throught the dictionaries values\n",
        "\n",
        "for x in my_dict.values():\n",
        "    print(x)"
      ],
      "id": "907f77e6",
      "execution_count": null,
      "outputs": [
        {
          "name": "stdout",
          "output_type": "stream",
          "text": [
            "Audi\n",
            "BMW\n",
            "Mercidies Benz\n"
          ]
        }
      ]
    },
    {
      "cell_type": "code",
      "metadata": {
        "id": "32fafc4d",
        "outputId": "f7d6b7b8-6a5a-4586-c230-8f1acbd21599"
      },
      "source": [
        "# We can also check both keys and values\n",
        "for x in my_dict.items():\n",
        "    print(x)"
      ],
      "id": "32fafc4d",
      "execution_count": null,
      "outputs": [
        {
          "name": "stdout",
          "output_type": "stream",
          "text": [
            "('Car1', 'Audi')\n",
            "('Car2', 'BMW')\n",
            "('Car3', 'Mercidies Benz')\n"
          ]
        }
      ]
    },
    {
      "cell_type": "code",
      "metadata": {
        "id": "7a39d188"
      },
      "source": [
        "## Adding items in Dictionaries\n",
        "\n",
        "my_dict['car4']='Audi 2.0'"
      ],
      "id": "7a39d188",
      "execution_count": null,
      "outputs": []
    },
    {
      "cell_type": "code",
      "metadata": {
        "id": "02808982",
        "outputId": "81c3ceb9-9a8c-4a3d-99ba-58df3c28dc75"
      },
      "source": [
        "my_dict"
      ],
      "id": "02808982",
      "execution_count": null,
      "outputs": [
        {
          "data": {
            "text/plain": [
              "{'Car1': 'Audi', 'Car2': 'BMW', 'Car3': 'Mercidies Benz', 'car4': 'Audi 2.0'}"
            ]
          },
          "execution_count": 73,
          "metadata": {},
          "output_type": "execute_result"
        }
      ]
    },
    {
      "cell_type": "code",
      "metadata": {
        "id": "f2ac17e6"
      },
      "source": [
        "my_dict['Car1']='MAruti'"
      ],
      "id": "f2ac17e6",
      "execution_count": null,
      "outputs": []
    },
    {
      "cell_type": "code",
      "metadata": {
        "id": "5123753d",
        "outputId": "2c7dd501-003a-4a48-a52f-71b8770716d9"
      },
      "source": [
        "my_dict"
      ],
      "id": "5123753d",
      "execution_count": null,
      "outputs": [
        {
          "data": {
            "text/plain": [
              "{'Car1': 'MAruti', 'Car2': 'BMW', 'Car3': 'Mercidies Benz', 'car4': 'Audi 2.0'}"
            ]
          },
          "execution_count": 75,
          "metadata": {},
          "output_type": "execute_result"
        }
      ]
    },
    {
      "cell_type": "markdown",
      "metadata": {
        "id": "0bf0dfa6"
      },
      "source": [
        "Nested Dictionary"
      ],
      "id": "0bf0dfa6"
    },
    {
      "cell_type": "code",
      "metadata": {
        "id": "66d0cdda"
      },
      "source": [
        "car1_model={'Mercedes':1960}\n",
        "car2_model={'Audi':1970}\n",
        "car3_model={'Ambassador':1980}\n",
        "\n",
        "car_type={'car1':car1_model,'car2':car2_model,'car3':car3_model}"
      ],
      "id": "66d0cdda",
      "execution_count": null,
      "outputs": []
    },
    {
      "cell_type": "code",
      "metadata": {
        "id": "28fc1a77",
        "outputId": "5c1078be-8074-4500-ba45-0c9d90691de7"
      },
      "source": [
        "print(car_type)"
      ],
      "id": "28fc1a77",
      "execution_count": null,
      "outputs": [
        {
          "name": "stdout",
          "output_type": "stream",
          "text": [
            "{'car1': {'Mercedes': 1960}, 'car2': {'Audi': 1970}, 'car3': {'Ambassador': 1980}}\n"
          ]
        }
      ]
    },
    {
      "cell_type": "code",
      "metadata": {
        "id": "513c30b6",
        "outputId": "00e5c550-32d1-4ff1-ac51-d0f15e9ca194"
      },
      "source": [
        "## Accessing the items in the dictionary\n",
        "\n",
        "print(car_type['car1'])"
      ],
      "id": "513c30b6",
      "execution_count": null,
      "outputs": [
        {
          "name": "stdout",
          "output_type": "stream",
          "text": [
            "{'Mercedes': 1960}\n"
          ]
        }
      ]
    },
    {
      "cell_type": "code",
      "metadata": {
        "id": "6f880c5a",
        "outputId": "fbaf7d23-1503-463a-df01-3f23f241746f"
      },
      "source": [
        "print(car_type['car1']['Mercedes'])"
      ],
      "id": "6f880c5a",
      "execution_count": null,
      "outputs": [
        {
          "name": "stdout",
          "output_type": "stream",
          "text": [
            "1960\n"
          ]
        }
      ]
    },
    {
      "cell_type": "markdown",
      "metadata": {
        "id": "6e645129"
      },
      "source": [
        "Tuples"
      ],
      "id": "6e645129"
    },
    {
      "cell_type": "code",
      "metadata": {
        "id": "6b802440"
      },
      "source": [
        "\n",
        "## create an empty Tuples\n",
        "\n",
        "my_tuple=tuple()"
      ],
      "id": "6b802440",
      "execution_count": null,
      "outputs": []
    },
    {
      "cell_type": "code",
      "metadata": {
        "id": "ecd3c86f",
        "outputId": "59e3dafa-5868-43f6-9fd8-dcda9c6d51f1"
      },
      "source": [
        "type(my_tuple)"
      ],
      "id": "ecd3c86f",
      "execution_count": null,
      "outputs": [
        {
          "data": {
            "text/plain": [
              "tuple"
            ]
          },
          "execution_count": 82,
          "metadata": {},
          "output_type": "execute_result"
        }
      ]
    },
    {
      "cell_type": "code",
      "metadata": {
        "id": "cc9fe104"
      },
      "source": [
        "my_tuple=()"
      ],
      "id": "cc9fe104",
      "execution_count": null,
      "outputs": []
    },
    {
      "cell_type": "code",
      "metadata": {
        "id": "2f5a423f",
        "outputId": "9f7ccf10-d227-460b-9a1a-a6e623c294d4"
      },
      "source": [
        "type(my_tuple)"
      ],
      "id": "2f5a423f",
      "execution_count": null,
      "outputs": [
        {
          "data": {
            "text/plain": [
              "tuple"
            ]
          },
          "execution_count": 84,
          "metadata": {},
          "output_type": "execute_result"
        }
      ]
    },
    {
      "cell_type": "code",
      "metadata": {
        "id": "81b7d79f"
      },
      "source": [
        "my_tuple=(\"Krish\",\"Ankur\",\"John\")"
      ],
      "id": "81b7d79f",
      "execution_count": null,
      "outputs": []
    },
    {
      "cell_type": "code",
      "metadata": {
        "id": "37b8d3a6"
      },
      "source": [
        "my_tuple=('Hello','World')"
      ],
      "id": "37b8d3a6",
      "execution_count": null,
      "outputs": []
    },
    {
      "cell_type": "code",
      "metadata": {
        "id": "4c87e81b",
        "outputId": "e32a1ecf-196e-41f1-8fbb-2bc09ae4821b"
      },
      "source": [
        "\n",
        "print(type(my_tuple))\n",
        "print(my_tuple)"
      ],
      "id": "4c87e81b",
      "execution_count": null,
      "outputs": [
        {
          "name": "stdout",
          "output_type": "stream",
          "text": [
            "<class 'tuple'>\n",
            "('Krish', 'Ankur', 'John')\n"
          ]
        }
      ]
    },
    {
      "cell_type": "code",
      "metadata": {
        "id": "bcec6a1f",
        "outputId": "9b6a080d-f71a-4419-a0de-eece489a33e8"
      },
      "source": [
        "type(my_tuple)"
      ],
      "id": "bcec6a1f",
      "execution_count": null,
      "outputs": [
        {
          "data": {
            "text/plain": [
              "tuple"
            ]
          },
          "execution_count": 89,
          "metadata": {},
          "output_type": "execute_result"
        }
      ]
    },
    {
      "cell_type": "code",
      "metadata": {
        "id": "1653c496",
        "outputId": "a4fdcd4e-3bca-4da9-e3fe-ee01431ef782"
      },
      "source": [
        "## Inbuilt function\n",
        "my_tuple.count('Krish')"
      ],
      "id": "1653c496",
      "execution_count": null,
      "outputs": [
        {
          "data": {
            "text/plain": [
              "1"
            ]
          },
          "execution_count": 90,
          "metadata": {},
          "output_type": "execute_result"
        }
      ]
    },
    {
      "cell_type": "code",
      "metadata": {
        "id": "5b86c8c3",
        "outputId": "32c6343d-d2f1-41f5-9c83-887d35604289"
      },
      "source": [
        "my_tuple.index('Ankur')"
      ],
      "id": "5b86c8c3",
      "execution_count": null,
      "outputs": [
        {
          "data": {
            "text/plain": [
              "1"
            ]
          },
          "execution_count": 91,
          "metadata": {},
          "output_type": "execute_result"
        }
      ]
    },
    {
      "cell_type": "code",
      "metadata": {
        "id": "a419321e"
      },
      "source": [
        ""
      ],
      "id": "a419321e",
      "execution_count": null,
      "outputs": []
    }
  ]
}