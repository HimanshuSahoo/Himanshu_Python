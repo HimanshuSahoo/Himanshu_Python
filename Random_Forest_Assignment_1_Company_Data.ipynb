{
  "nbformat": 4,
  "nbformat_minor": 5,
  "metadata": {
    "kernelspec": {
      "display_name": "Python 3",
      "language": "python",
      "name": "python3"
    },
    "language_info": {
      "codemirror_mode": {
        "name": "ipython",
        "version": 3
      },
      "file_extension": ".py",
      "mimetype": "text/x-python",
      "name": "python",
      "nbconvert_exporter": "python",
      "pygments_lexer": "ipython3",
      "version": "3.8.10"
    },
    "colab": {
      "name": "Random Forest Assignment 1.ipynb",
      "provenance": [],
      "include_colab_link": true
    }
  },
  "cells": [
    {
      "cell_type": "markdown",
      "metadata": {
        "id": "view-in-github",
        "colab_type": "text"
      },
      "source": [
        "<a href=\"https://colab.research.google.com/github/HimanshuSahoo/Himanshu_Python/blob/main/Random_Forest_Assignment_1_Company_Data.ipynb\" target=\"_parent\"><img src=\"https://colab.research.google.com/assets/colab-badge.svg\" alt=\"Open In Colab\"/></a>"
      ]
    },
    {
      "cell_type": "code",
      "metadata": {
        "id": "214513ff"
      },
      "source": [
        "import pandas as pd"
      ],
      "id": "214513ff",
      "execution_count": 1,
      "outputs": []
    },
    {
      "cell_type": "code",
      "metadata": {
        "colab": {
          "base_uri": "https://localhost:8080/",
          "height": 417
        },
        "id": "52598afc",
        "outputId": "d1a79175-2ed7-4f9b-a714-bb82c807a0f1"
      },
      "source": [
        "df=pd.read_csv(\"Company_Data.csv\")\n",
        "df"
      ],
      "id": "52598afc",
      "execution_count": 2,
      "outputs": [
        {
          "output_type": "execute_result",
          "data": {
            "text/html": [
              "<div>\n",
              "<style scoped>\n",
              "    .dataframe tbody tr th:only-of-type {\n",
              "        vertical-align: middle;\n",
              "    }\n",
              "\n",
              "    .dataframe tbody tr th {\n",
              "        vertical-align: top;\n",
              "    }\n",
              "\n",
              "    .dataframe thead th {\n",
              "        text-align: right;\n",
              "    }\n",
              "</style>\n",
              "<table border=\"1\" class=\"dataframe\">\n",
              "  <thead>\n",
              "    <tr style=\"text-align: right;\">\n",
              "      <th></th>\n",
              "      <th>Sales</th>\n",
              "      <th>CompPrice</th>\n",
              "      <th>Income</th>\n",
              "      <th>Advertising</th>\n",
              "      <th>Population</th>\n",
              "      <th>Price</th>\n",
              "      <th>ShelveLoc</th>\n",
              "      <th>Age</th>\n",
              "      <th>Education</th>\n",
              "      <th>Urban</th>\n",
              "      <th>US</th>\n",
              "    </tr>\n",
              "  </thead>\n",
              "  <tbody>\n",
              "    <tr>\n",
              "      <th>0</th>\n",
              "      <td>9.50</td>\n",
              "      <td>138</td>\n",
              "      <td>73</td>\n",
              "      <td>11</td>\n",
              "      <td>276</td>\n",
              "      <td>120</td>\n",
              "      <td>Bad</td>\n",
              "      <td>42</td>\n",
              "      <td>17</td>\n",
              "      <td>Yes</td>\n",
              "      <td>Yes</td>\n",
              "    </tr>\n",
              "    <tr>\n",
              "      <th>1</th>\n",
              "      <td>11.22</td>\n",
              "      <td>111</td>\n",
              "      <td>48</td>\n",
              "      <td>16</td>\n",
              "      <td>260</td>\n",
              "      <td>83</td>\n",
              "      <td>Good</td>\n",
              "      <td>65</td>\n",
              "      <td>10</td>\n",
              "      <td>Yes</td>\n",
              "      <td>Yes</td>\n",
              "    </tr>\n",
              "    <tr>\n",
              "      <th>2</th>\n",
              "      <td>10.06</td>\n",
              "      <td>113</td>\n",
              "      <td>35</td>\n",
              "      <td>10</td>\n",
              "      <td>269</td>\n",
              "      <td>80</td>\n",
              "      <td>Medium</td>\n",
              "      <td>59</td>\n",
              "      <td>12</td>\n",
              "      <td>Yes</td>\n",
              "      <td>Yes</td>\n",
              "    </tr>\n",
              "    <tr>\n",
              "      <th>3</th>\n",
              "      <td>7.40</td>\n",
              "      <td>117</td>\n",
              "      <td>100</td>\n",
              "      <td>4</td>\n",
              "      <td>466</td>\n",
              "      <td>97</td>\n",
              "      <td>Medium</td>\n",
              "      <td>55</td>\n",
              "      <td>14</td>\n",
              "      <td>Yes</td>\n",
              "      <td>Yes</td>\n",
              "    </tr>\n",
              "    <tr>\n",
              "      <th>4</th>\n",
              "      <td>4.15</td>\n",
              "      <td>141</td>\n",
              "      <td>64</td>\n",
              "      <td>3</td>\n",
              "      <td>340</td>\n",
              "      <td>128</td>\n",
              "      <td>Bad</td>\n",
              "      <td>38</td>\n",
              "      <td>13</td>\n",
              "      <td>Yes</td>\n",
              "      <td>No</td>\n",
              "    </tr>\n",
              "    <tr>\n",
              "      <th>...</th>\n",
              "      <td>...</td>\n",
              "      <td>...</td>\n",
              "      <td>...</td>\n",
              "      <td>...</td>\n",
              "      <td>...</td>\n",
              "      <td>...</td>\n",
              "      <td>...</td>\n",
              "      <td>...</td>\n",
              "      <td>...</td>\n",
              "      <td>...</td>\n",
              "      <td>...</td>\n",
              "    </tr>\n",
              "    <tr>\n",
              "      <th>395</th>\n",
              "      <td>12.57</td>\n",
              "      <td>138</td>\n",
              "      <td>108</td>\n",
              "      <td>17</td>\n",
              "      <td>203</td>\n",
              "      <td>128</td>\n",
              "      <td>Good</td>\n",
              "      <td>33</td>\n",
              "      <td>14</td>\n",
              "      <td>Yes</td>\n",
              "      <td>Yes</td>\n",
              "    </tr>\n",
              "    <tr>\n",
              "      <th>396</th>\n",
              "      <td>6.14</td>\n",
              "      <td>139</td>\n",
              "      <td>23</td>\n",
              "      <td>3</td>\n",
              "      <td>37</td>\n",
              "      <td>120</td>\n",
              "      <td>Medium</td>\n",
              "      <td>55</td>\n",
              "      <td>11</td>\n",
              "      <td>No</td>\n",
              "      <td>Yes</td>\n",
              "    </tr>\n",
              "    <tr>\n",
              "      <th>397</th>\n",
              "      <td>7.41</td>\n",
              "      <td>162</td>\n",
              "      <td>26</td>\n",
              "      <td>12</td>\n",
              "      <td>368</td>\n",
              "      <td>159</td>\n",
              "      <td>Medium</td>\n",
              "      <td>40</td>\n",
              "      <td>18</td>\n",
              "      <td>Yes</td>\n",
              "      <td>Yes</td>\n",
              "    </tr>\n",
              "    <tr>\n",
              "      <th>398</th>\n",
              "      <td>5.94</td>\n",
              "      <td>100</td>\n",
              "      <td>79</td>\n",
              "      <td>7</td>\n",
              "      <td>284</td>\n",
              "      <td>95</td>\n",
              "      <td>Bad</td>\n",
              "      <td>50</td>\n",
              "      <td>12</td>\n",
              "      <td>Yes</td>\n",
              "      <td>Yes</td>\n",
              "    </tr>\n",
              "    <tr>\n",
              "      <th>399</th>\n",
              "      <td>9.71</td>\n",
              "      <td>134</td>\n",
              "      <td>37</td>\n",
              "      <td>0</td>\n",
              "      <td>27</td>\n",
              "      <td>120</td>\n",
              "      <td>Good</td>\n",
              "      <td>49</td>\n",
              "      <td>16</td>\n",
              "      <td>Yes</td>\n",
              "      <td>Yes</td>\n",
              "    </tr>\n",
              "  </tbody>\n",
              "</table>\n",
              "<p>400 rows × 11 columns</p>\n",
              "</div>"
            ],
            "text/plain": [
              "     Sales  CompPrice  Income  Advertising  ...  Age  Education Urban   US\n",
              "0     9.50        138      73           11  ...   42         17   Yes  Yes\n",
              "1    11.22        111      48           16  ...   65         10   Yes  Yes\n",
              "2    10.06        113      35           10  ...   59         12   Yes  Yes\n",
              "3     7.40        117     100            4  ...   55         14   Yes  Yes\n",
              "4     4.15        141      64            3  ...   38         13   Yes   No\n",
              "..     ...        ...     ...          ...  ...  ...        ...   ...  ...\n",
              "395  12.57        138     108           17  ...   33         14   Yes  Yes\n",
              "396   6.14        139      23            3  ...   55         11    No  Yes\n",
              "397   7.41        162      26           12  ...   40         18   Yes  Yes\n",
              "398   5.94        100      79            7  ...   50         12   Yes  Yes\n",
              "399   9.71        134      37            0  ...   49         16   Yes  Yes\n",
              "\n",
              "[400 rows x 11 columns]"
            ]
          },
          "metadata": {},
          "execution_count": 2
        }
      ]
    },
    {
      "cell_type": "code",
      "metadata": {
        "colab": {
          "base_uri": "https://localhost:8080/"
        },
        "id": "f2f014aa",
        "outputId": "b344d960-791c-448f-e7a6-02e044b4c1b2"
      },
      "source": [
        "df.info()"
      ],
      "id": "f2f014aa",
      "execution_count": 3,
      "outputs": [
        {
          "output_type": "stream",
          "text": [
            "<class 'pandas.core.frame.DataFrame'>\n",
            "RangeIndex: 400 entries, 0 to 399\n",
            "Data columns (total 11 columns):\n",
            " #   Column       Non-Null Count  Dtype  \n",
            "---  ------       --------------  -----  \n",
            " 0   Sales        400 non-null    float64\n",
            " 1   CompPrice    400 non-null    int64  \n",
            " 2   Income       400 non-null    int64  \n",
            " 3   Advertising  400 non-null    int64  \n",
            " 4   Population   400 non-null    int64  \n",
            " 5   Price        400 non-null    int64  \n",
            " 6   ShelveLoc    400 non-null    object \n",
            " 7   Age          400 non-null    int64  \n",
            " 8   Education    400 non-null    int64  \n",
            " 9   Urban        400 non-null    object \n",
            " 10  US           400 non-null    object \n",
            "dtypes: float64(1), int64(7), object(3)\n",
            "memory usage: 34.5+ KB\n"
          ],
          "name": "stdout"
        }
      ]
    },
    {
      "cell_type": "code",
      "metadata": {
        "colab": {
          "base_uri": "https://localhost:8080/",
          "height": 295
        },
        "id": "833e96c8",
        "outputId": "c6e8861a-54d4-476c-aae4-3596103df7fb"
      },
      "source": [
        "df.describe()"
      ],
      "id": "833e96c8",
      "execution_count": 4,
      "outputs": [
        {
          "output_type": "execute_result",
          "data": {
            "text/html": [
              "<div>\n",
              "<style scoped>\n",
              "    .dataframe tbody tr th:only-of-type {\n",
              "        vertical-align: middle;\n",
              "    }\n",
              "\n",
              "    .dataframe tbody tr th {\n",
              "        vertical-align: top;\n",
              "    }\n",
              "\n",
              "    .dataframe thead th {\n",
              "        text-align: right;\n",
              "    }\n",
              "</style>\n",
              "<table border=\"1\" class=\"dataframe\">\n",
              "  <thead>\n",
              "    <tr style=\"text-align: right;\">\n",
              "      <th></th>\n",
              "      <th>Sales</th>\n",
              "      <th>CompPrice</th>\n",
              "      <th>Income</th>\n",
              "      <th>Advertising</th>\n",
              "      <th>Population</th>\n",
              "      <th>Price</th>\n",
              "      <th>Age</th>\n",
              "      <th>Education</th>\n",
              "    </tr>\n",
              "  </thead>\n",
              "  <tbody>\n",
              "    <tr>\n",
              "      <th>count</th>\n",
              "      <td>400.000000</td>\n",
              "      <td>400.000000</td>\n",
              "      <td>400.000000</td>\n",
              "      <td>400.000000</td>\n",
              "      <td>400.000000</td>\n",
              "      <td>400.000000</td>\n",
              "      <td>400.000000</td>\n",
              "      <td>400.000000</td>\n",
              "    </tr>\n",
              "    <tr>\n",
              "      <th>mean</th>\n",
              "      <td>7.496325</td>\n",
              "      <td>124.975000</td>\n",
              "      <td>68.657500</td>\n",
              "      <td>6.635000</td>\n",
              "      <td>264.840000</td>\n",
              "      <td>115.795000</td>\n",
              "      <td>53.322500</td>\n",
              "      <td>13.900000</td>\n",
              "    </tr>\n",
              "    <tr>\n",
              "      <th>std</th>\n",
              "      <td>2.824115</td>\n",
              "      <td>15.334512</td>\n",
              "      <td>27.986037</td>\n",
              "      <td>6.650364</td>\n",
              "      <td>147.376436</td>\n",
              "      <td>23.676664</td>\n",
              "      <td>16.200297</td>\n",
              "      <td>2.620528</td>\n",
              "    </tr>\n",
              "    <tr>\n",
              "      <th>min</th>\n",
              "      <td>0.000000</td>\n",
              "      <td>77.000000</td>\n",
              "      <td>21.000000</td>\n",
              "      <td>0.000000</td>\n",
              "      <td>10.000000</td>\n",
              "      <td>24.000000</td>\n",
              "      <td>25.000000</td>\n",
              "      <td>10.000000</td>\n",
              "    </tr>\n",
              "    <tr>\n",
              "      <th>25%</th>\n",
              "      <td>5.390000</td>\n",
              "      <td>115.000000</td>\n",
              "      <td>42.750000</td>\n",
              "      <td>0.000000</td>\n",
              "      <td>139.000000</td>\n",
              "      <td>100.000000</td>\n",
              "      <td>39.750000</td>\n",
              "      <td>12.000000</td>\n",
              "    </tr>\n",
              "    <tr>\n",
              "      <th>50%</th>\n",
              "      <td>7.490000</td>\n",
              "      <td>125.000000</td>\n",
              "      <td>69.000000</td>\n",
              "      <td>5.000000</td>\n",
              "      <td>272.000000</td>\n",
              "      <td>117.000000</td>\n",
              "      <td>54.500000</td>\n",
              "      <td>14.000000</td>\n",
              "    </tr>\n",
              "    <tr>\n",
              "      <th>75%</th>\n",
              "      <td>9.320000</td>\n",
              "      <td>135.000000</td>\n",
              "      <td>91.000000</td>\n",
              "      <td>12.000000</td>\n",
              "      <td>398.500000</td>\n",
              "      <td>131.000000</td>\n",
              "      <td>66.000000</td>\n",
              "      <td>16.000000</td>\n",
              "    </tr>\n",
              "    <tr>\n",
              "      <th>max</th>\n",
              "      <td>16.270000</td>\n",
              "      <td>175.000000</td>\n",
              "      <td>120.000000</td>\n",
              "      <td>29.000000</td>\n",
              "      <td>509.000000</td>\n",
              "      <td>191.000000</td>\n",
              "      <td>80.000000</td>\n",
              "      <td>18.000000</td>\n",
              "    </tr>\n",
              "  </tbody>\n",
              "</table>\n",
              "</div>"
            ],
            "text/plain": [
              "            Sales   CompPrice      Income  ...       Price         Age   Education\n",
              "count  400.000000  400.000000  400.000000  ...  400.000000  400.000000  400.000000\n",
              "mean     7.496325  124.975000   68.657500  ...  115.795000   53.322500   13.900000\n",
              "std      2.824115   15.334512   27.986037  ...   23.676664   16.200297    2.620528\n",
              "min      0.000000   77.000000   21.000000  ...   24.000000   25.000000   10.000000\n",
              "25%      5.390000  115.000000   42.750000  ...  100.000000   39.750000   12.000000\n",
              "50%      7.490000  125.000000   69.000000  ...  117.000000   54.500000   14.000000\n",
              "75%      9.320000  135.000000   91.000000  ...  131.000000   66.000000   16.000000\n",
              "max     16.270000  175.000000  120.000000  ...  191.000000   80.000000   18.000000\n",
              "\n",
              "[8 rows x 8 columns]"
            ]
          },
          "metadata": {},
          "execution_count": 4
        }
      ]
    },
    {
      "cell_type": "code",
      "metadata": {
        "colab": {
          "base_uri": "https://localhost:8080/"
        },
        "id": "39b5d196",
        "outputId": "87ce067d-5ce3-4b6f-afd0-e5c2c44f9b4b"
      },
      "source": [
        "df.shape"
      ],
      "id": "39b5d196",
      "execution_count": 5,
      "outputs": [
        {
          "output_type": "execute_result",
          "data": {
            "text/plain": [
              "(400, 11)"
            ]
          },
          "metadata": {},
          "execution_count": 5
        }
      ]
    },
    {
      "cell_type": "code",
      "metadata": {
        "colab": {
          "base_uri": "https://localhost:8080/"
        },
        "id": "07cca5af",
        "outputId": "3bd42684-7857-4309-e1ef-f654694a5cd6"
      },
      "source": [
        "df.isnull().sum()"
      ],
      "id": "07cca5af",
      "execution_count": 6,
      "outputs": [
        {
          "output_type": "execute_result",
          "data": {
            "text/plain": [
              "Sales          0\n",
              "CompPrice      0\n",
              "Income         0\n",
              "Advertising    0\n",
              "Population     0\n",
              "Price          0\n",
              "ShelveLoc      0\n",
              "Age            0\n",
              "Education      0\n",
              "Urban          0\n",
              "US             0\n",
              "dtype: int64"
            ]
          },
          "metadata": {},
          "execution_count": 6
        }
      ]
    },
    {
      "cell_type": "code",
      "metadata": {
        "id": "a21af413"
      },
      "source": [
        "df.loc[df[\"Sales\"] <= 10.00,\"sales_df\"]=\"not_high\"\n",
        "df.loc[df[\"Sales\"] >= 10.01,\"sales_df\"]=\"high\""
      ],
      "id": "a21af413",
      "execution_count": 7,
      "outputs": []
    },
    {
      "cell_type": "code",
      "metadata": {
        "colab": {
          "base_uri": "https://localhost:8080/",
          "height": 203
        },
        "id": "1555df5b",
        "outputId": "383a1869-e500-4526-df07-7fcf745781a7"
      },
      "source": [
        "df.head()"
      ],
      "id": "1555df5b",
      "execution_count": 8,
      "outputs": [
        {
          "output_type": "execute_result",
          "data": {
            "text/html": [
              "<div>\n",
              "<style scoped>\n",
              "    .dataframe tbody tr th:only-of-type {\n",
              "        vertical-align: middle;\n",
              "    }\n",
              "\n",
              "    .dataframe tbody tr th {\n",
              "        vertical-align: top;\n",
              "    }\n",
              "\n",
              "    .dataframe thead th {\n",
              "        text-align: right;\n",
              "    }\n",
              "</style>\n",
              "<table border=\"1\" class=\"dataframe\">\n",
              "  <thead>\n",
              "    <tr style=\"text-align: right;\">\n",
              "      <th></th>\n",
              "      <th>Sales</th>\n",
              "      <th>CompPrice</th>\n",
              "      <th>Income</th>\n",
              "      <th>Advertising</th>\n",
              "      <th>Population</th>\n",
              "      <th>Price</th>\n",
              "      <th>ShelveLoc</th>\n",
              "      <th>Age</th>\n",
              "      <th>Education</th>\n",
              "      <th>Urban</th>\n",
              "      <th>US</th>\n",
              "      <th>sales_df</th>\n",
              "    </tr>\n",
              "  </thead>\n",
              "  <tbody>\n",
              "    <tr>\n",
              "      <th>0</th>\n",
              "      <td>9.50</td>\n",
              "      <td>138</td>\n",
              "      <td>73</td>\n",
              "      <td>11</td>\n",
              "      <td>276</td>\n",
              "      <td>120</td>\n",
              "      <td>Bad</td>\n",
              "      <td>42</td>\n",
              "      <td>17</td>\n",
              "      <td>Yes</td>\n",
              "      <td>Yes</td>\n",
              "      <td>not_high</td>\n",
              "    </tr>\n",
              "    <tr>\n",
              "      <th>1</th>\n",
              "      <td>11.22</td>\n",
              "      <td>111</td>\n",
              "      <td>48</td>\n",
              "      <td>16</td>\n",
              "      <td>260</td>\n",
              "      <td>83</td>\n",
              "      <td>Good</td>\n",
              "      <td>65</td>\n",
              "      <td>10</td>\n",
              "      <td>Yes</td>\n",
              "      <td>Yes</td>\n",
              "      <td>high</td>\n",
              "    </tr>\n",
              "    <tr>\n",
              "      <th>2</th>\n",
              "      <td>10.06</td>\n",
              "      <td>113</td>\n",
              "      <td>35</td>\n",
              "      <td>10</td>\n",
              "      <td>269</td>\n",
              "      <td>80</td>\n",
              "      <td>Medium</td>\n",
              "      <td>59</td>\n",
              "      <td>12</td>\n",
              "      <td>Yes</td>\n",
              "      <td>Yes</td>\n",
              "      <td>high</td>\n",
              "    </tr>\n",
              "    <tr>\n",
              "      <th>3</th>\n",
              "      <td>7.40</td>\n",
              "      <td>117</td>\n",
              "      <td>100</td>\n",
              "      <td>4</td>\n",
              "      <td>466</td>\n",
              "      <td>97</td>\n",
              "      <td>Medium</td>\n",
              "      <td>55</td>\n",
              "      <td>14</td>\n",
              "      <td>Yes</td>\n",
              "      <td>Yes</td>\n",
              "      <td>not_high</td>\n",
              "    </tr>\n",
              "    <tr>\n",
              "      <th>4</th>\n",
              "      <td>4.15</td>\n",
              "      <td>141</td>\n",
              "      <td>64</td>\n",
              "      <td>3</td>\n",
              "      <td>340</td>\n",
              "      <td>128</td>\n",
              "      <td>Bad</td>\n",
              "      <td>38</td>\n",
              "      <td>13</td>\n",
              "      <td>Yes</td>\n",
              "      <td>No</td>\n",
              "      <td>not_high</td>\n",
              "    </tr>\n",
              "  </tbody>\n",
              "</table>\n",
              "</div>"
            ],
            "text/plain": [
              "   Sales  CompPrice  Income  Advertising  ...  Education  Urban   US  sales_df\n",
              "0   9.50        138      73           11  ...         17    Yes  Yes  not_high\n",
              "1  11.22        111      48           16  ...         10    Yes  Yes      high\n",
              "2  10.06        113      35           10  ...         12    Yes  Yes      high\n",
              "3   7.40        117     100            4  ...         14    Yes  Yes  not_high\n",
              "4   4.15        141      64            3  ...         13    Yes   No  not_high\n",
              "\n",
              "[5 rows x 12 columns]"
            ]
          },
          "metadata": {},
          "execution_count": 8
        }
      ]
    },
    {
      "cell_type": "code",
      "metadata": {
        "id": "052c95a9"
      },
      "source": [
        "from sklearn import preprocessing\n",
        "label_encoder = preprocessing.LabelEncoder()\n",
        "df[\"ShelveLoc\"] = label_encoder.fit_transform(df[\"ShelveLoc\"])\n",
        "df[\"Urban\"] = label_encoder.fit_transform(df[\"Urban\"])\n",
        "df[\"US\"] = label_encoder.fit_transform(df[\"US\"])\n",
        "df[\"sales_df\"] = label_encoder.fit_transform(df[\"sales_df\"])"
      ],
      "id": "052c95a9",
      "execution_count": 9,
      "outputs": []
    },
    {
      "cell_type": "code",
      "metadata": {
        "colab": {
          "base_uri": "https://localhost:8080/",
          "height": 203
        },
        "id": "30ba49f2",
        "outputId": "dee57e73-6b0e-435e-d979-cca03cdba771"
      },
      "source": [
        "df.head()"
      ],
      "id": "30ba49f2",
      "execution_count": 10,
      "outputs": [
        {
          "output_type": "execute_result",
          "data": {
            "text/html": [
              "<div>\n",
              "<style scoped>\n",
              "    .dataframe tbody tr th:only-of-type {\n",
              "        vertical-align: middle;\n",
              "    }\n",
              "\n",
              "    .dataframe tbody tr th {\n",
              "        vertical-align: top;\n",
              "    }\n",
              "\n",
              "    .dataframe thead th {\n",
              "        text-align: right;\n",
              "    }\n",
              "</style>\n",
              "<table border=\"1\" class=\"dataframe\">\n",
              "  <thead>\n",
              "    <tr style=\"text-align: right;\">\n",
              "      <th></th>\n",
              "      <th>Sales</th>\n",
              "      <th>CompPrice</th>\n",
              "      <th>Income</th>\n",
              "      <th>Advertising</th>\n",
              "      <th>Population</th>\n",
              "      <th>Price</th>\n",
              "      <th>ShelveLoc</th>\n",
              "      <th>Age</th>\n",
              "      <th>Education</th>\n",
              "      <th>Urban</th>\n",
              "      <th>US</th>\n",
              "      <th>sales_df</th>\n",
              "    </tr>\n",
              "  </thead>\n",
              "  <tbody>\n",
              "    <tr>\n",
              "      <th>0</th>\n",
              "      <td>9.50</td>\n",
              "      <td>138</td>\n",
              "      <td>73</td>\n",
              "      <td>11</td>\n",
              "      <td>276</td>\n",
              "      <td>120</td>\n",
              "      <td>0</td>\n",
              "      <td>42</td>\n",
              "      <td>17</td>\n",
              "      <td>1</td>\n",
              "      <td>1</td>\n",
              "      <td>1</td>\n",
              "    </tr>\n",
              "    <tr>\n",
              "      <th>1</th>\n",
              "      <td>11.22</td>\n",
              "      <td>111</td>\n",
              "      <td>48</td>\n",
              "      <td>16</td>\n",
              "      <td>260</td>\n",
              "      <td>83</td>\n",
              "      <td>1</td>\n",
              "      <td>65</td>\n",
              "      <td>10</td>\n",
              "      <td>1</td>\n",
              "      <td>1</td>\n",
              "      <td>0</td>\n",
              "    </tr>\n",
              "    <tr>\n",
              "      <th>2</th>\n",
              "      <td>10.06</td>\n",
              "      <td>113</td>\n",
              "      <td>35</td>\n",
              "      <td>10</td>\n",
              "      <td>269</td>\n",
              "      <td>80</td>\n",
              "      <td>2</td>\n",
              "      <td>59</td>\n",
              "      <td>12</td>\n",
              "      <td>1</td>\n",
              "      <td>1</td>\n",
              "      <td>0</td>\n",
              "    </tr>\n",
              "    <tr>\n",
              "      <th>3</th>\n",
              "      <td>7.40</td>\n",
              "      <td>117</td>\n",
              "      <td>100</td>\n",
              "      <td>4</td>\n",
              "      <td>466</td>\n",
              "      <td>97</td>\n",
              "      <td>2</td>\n",
              "      <td>55</td>\n",
              "      <td>14</td>\n",
              "      <td>1</td>\n",
              "      <td>1</td>\n",
              "      <td>1</td>\n",
              "    </tr>\n",
              "    <tr>\n",
              "      <th>4</th>\n",
              "      <td>4.15</td>\n",
              "      <td>141</td>\n",
              "      <td>64</td>\n",
              "      <td>3</td>\n",
              "      <td>340</td>\n",
              "      <td>128</td>\n",
              "      <td>0</td>\n",
              "      <td>38</td>\n",
              "      <td>13</td>\n",
              "      <td>1</td>\n",
              "      <td>0</td>\n",
              "      <td>1</td>\n",
              "    </tr>\n",
              "  </tbody>\n",
              "</table>\n",
              "</div>"
            ],
            "text/plain": [
              "   Sales  CompPrice  Income  Advertising  ...  Education  Urban  US  sales_df\n",
              "0   9.50        138      73           11  ...         17      1   1         1\n",
              "1  11.22        111      48           16  ...         10      1   1         0\n",
              "2  10.06        113      35           10  ...         12      1   1         0\n",
              "3   7.40        117     100            4  ...         14      1   1         1\n",
              "4   4.15        141      64            3  ...         13      1   0         1\n",
              "\n",
              "[5 rows x 12 columns]"
            ]
          },
          "metadata": {},
          "execution_count": 10
        }
      ]
    },
    {
      "cell_type": "markdown",
      "metadata": {
        "id": "12c53da9"
      },
      "source": [
        "# Bagged Decision Trees for Classification"
      ],
      "id": "12c53da9"
    },
    {
      "cell_type": "code",
      "metadata": {
        "id": "f8726482"
      },
      "source": [
        "from sklearn.model_selection import KFold\n",
        "from sklearn.model_selection import cross_val_score\n",
        "from sklearn.ensemble import BaggingClassifier\n",
        "from sklearn.tree import DecisionTreeClassifier"
      ],
      "id": "f8726482",
      "execution_count": 11,
      "outputs": []
    },
    {
      "cell_type": "code",
      "metadata": {
        "colab": {
          "base_uri": "https://localhost:8080/"
        },
        "id": "3c6e5704",
        "outputId": "a2758f37-f78c-4262-845c-f8a85e143dd7"
      },
      "source": [
        "array = df.values\n",
        "X = array[:,1:11]\n",
        "Y = array[:,11]\n",
        "\n",
        "kfold = KFold(n_splits=10)\n",
        "cart = DecisionTreeClassifier()\n",
        "num_trees = 100\n",
        "model = BaggingClassifier(base_estimator=cart, n_estimators=num_trees)\n",
        "results = cross_val_score(model, X, Y, cv=kfold)\n",
        "print(results.mean())"
      ],
      "id": "3c6e5704",
      "execution_count": 12,
      "outputs": [
        {
          "output_type": "stream",
          "text": [
            "0.8400000000000001\n"
          ],
          "name": "stdout"
        }
      ]
    },
    {
      "cell_type": "markdown",
      "metadata": {
        "id": "e610e489"
      },
      "source": [
        "# Random Forest Classification "
      ],
      "id": "e610e489"
    },
    {
      "cell_type": "code",
      "metadata": {
        "colab": {
          "base_uri": "https://localhost:8080/"
        },
        "id": "a842e3be",
        "outputId": "e31b8caf-ff78-4094-8179-1a7fac56e3ce"
      },
      "source": [
        "from sklearn.ensemble import RandomForestClassifier\n",
        "\n",
        "x = array[:,1:11]\n",
        "y = array[:,11]\n",
        "num_trees = 100\n",
        "max_features = 3\n",
        "kfold = KFold(n_splits=10)\n",
        "model = RandomForestClassifier(n_estimators=num_trees, max_features=max_features)\n",
        "results = cross_val_score(model, x, y, cv=kfold)\n",
        "print(results.mean())"
      ],
      "id": "a842e3be",
      "execution_count": 13,
      "outputs": [
        {
          "output_type": "stream",
          "text": [
            "0.8375\n"
          ],
          "name": "stdout"
        }
      ]
    },
    {
      "cell_type": "markdown",
      "metadata": {
        "id": "2ba1a819"
      },
      "source": [
        "# AdaBoost Classification"
      ],
      "id": "2ba1a819"
    },
    {
      "cell_type": "code",
      "metadata": {
        "colab": {
          "base_uri": "https://localhost:8080/"
        },
        "id": "d24facb7",
        "outputId": "c590ce3d-55ed-4e98-84f8-acf2b9e4361b"
      },
      "source": [
        "from sklearn.ensemble import AdaBoostClassifier\n",
        "\n",
        "x1 = array[:,1:11]\n",
        "y1 = array[:,11]\n",
        "\n",
        "num_trees = 10\n",
        "seed=7\n",
        "kfold = KFold(n_splits=10)\n",
        "model = AdaBoostClassifier(n_estimators=num_trees, random_state=seed)\n",
        "results = cross_val_score(model, x1, y1, cv=kfold)\n",
        "print(results.mean())"
      ],
      "id": "d24facb7",
      "execution_count": 14,
      "outputs": [
        {
          "output_type": "stream",
          "text": [
            "0.845\n"
          ],
          "name": "stdout"
        }
      ]
    },
    {
      "cell_type": "markdown",
      "metadata": {
        "id": "23ed2789"
      },
      "source": [
        "# Stacking Ensemble for Classification"
      ],
      "id": "23ed2789"
    },
    {
      "cell_type": "code",
      "metadata": {
        "id": "eea726e4"
      },
      "source": [
        "from sklearn.linear_model import LogisticRegression\n",
        "from sklearn.tree import DecisionTreeClassifier\n",
        "from sklearn.svm import SVC\n",
        "from sklearn.ensemble import VotingClassifier"
      ],
      "id": "eea726e4",
      "execution_count": 15,
      "outputs": []
    },
    {
      "cell_type": "code",
      "metadata": {
        "id": "1af3a210"
      },
      "source": [
        "x2 = array[:,1:11]\n",
        "y2 = array[:,11]\n",
        "kfold = KFold(n_splits=10)\n",
        "\n",
        "# sub models\n",
        "estimators = []\n",
        "model1 = LogisticRegression(max_iter=500)\n",
        "estimators.append(('logistic', model1))\n",
        "model2 = DecisionTreeClassifier()\n",
        "estimators.append(('cart', model2))\n",
        "model3 = SVC()\n",
        "estimators.append(('svm', model3))"
      ],
      "id": "1af3a210",
      "execution_count": 17,
      "outputs": []
    },
    {
      "cell_type": "code",
      "metadata": {
        "colab": {
          "base_uri": "https://localhost:8080/"
        },
        "id": "f653e953",
        "outputId": "0e762e66-14d9-45fc-e3da-7d4ac0388882"
      },
      "source": [
        "# ensemble model\n",
        "ensemble = VotingClassifier(estimators)\n",
        "results = cross_val_score(ensemble, x2, y2, cv=kfold)"
      ],
      "id": "f653e953",
      "execution_count": 19,
      "outputs": [
        {
          "output_type": "stream",
          "text": [
            "/usr/local/lib/python3.7/dist-packages/sklearn/linear_model/_logistic.py:940: ConvergenceWarning: lbfgs failed to converge (status=1):\n",
            "STOP: TOTAL NO. of ITERATIONS REACHED LIMIT.\n",
            "\n",
            "Increase the number of iterations (max_iter) or scale the data as shown in:\n",
            "    https://scikit-learn.org/stable/modules/preprocessing.html\n",
            "Please also refer to the documentation for alternative solver options:\n",
            "    https://scikit-learn.org/stable/modules/linear_model.html#logistic-regression\n",
            "  extra_warning_msg=_LOGISTIC_SOLVER_CONVERGENCE_MSG)\n",
            "/usr/local/lib/python3.7/dist-packages/sklearn/linear_model/_logistic.py:940: ConvergenceWarning: lbfgs failed to converge (status=1):\n",
            "STOP: TOTAL NO. of ITERATIONS REACHED LIMIT.\n",
            "\n",
            "Increase the number of iterations (max_iter) or scale the data as shown in:\n",
            "    https://scikit-learn.org/stable/modules/preprocessing.html\n",
            "Please also refer to the documentation for alternative solver options:\n",
            "    https://scikit-learn.org/stable/modules/linear_model.html#logistic-regression\n",
            "  extra_warning_msg=_LOGISTIC_SOLVER_CONVERGENCE_MSG)\n",
            "/usr/local/lib/python3.7/dist-packages/sklearn/linear_model/_logistic.py:940: ConvergenceWarning: lbfgs failed to converge (status=1):\n",
            "STOP: TOTAL NO. of ITERATIONS REACHED LIMIT.\n",
            "\n",
            "Increase the number of iterations (max_iter) or scale the data as shown in:\n",
            "    https://scikit-learn.org/stable/modules/preprocessing.html\n",
            "Please also refer to the documentation for alternative solver options:\n",
            "    https://scikit-learn.org/stable/modules/linear_model.html#logistic-regression\n",
            "  extra_warning_msg=_LOGISTIC_SOLVER_CONVERGENCE_MSG)\n",
            "/usr/local/lib/python3.7/dist-packages/sklearn/linear_model/_logistic.py:940: ConvergenceWarning: lbfgs failed to converge (status=1):\n",
            "STOP: TOTAL NO. of ITERATIONS REACHED LIMIT.\n",
            "\n",
            "Increase the number of iterations (max_iter) or scale the data as shown in:\n",
            "    https://scikit-learn.org/stable/modules/preprocessing.html\n",
            "Please also refer to the documentation for alternative solver options:\n",
            "    https://scikit-learn.org/stable/modules/linear_model.html#logistic-regression\n",
            "  extra_warning_msg=_LOGISTIC_SOLVER_CONVERGENCE_MSG)\n",
            "/usr/local/lib/python3.7/dist-packages/sklearn/linear_model/_logistic.py:940: ConvergenceWarning: lbfgs failed to converge (status=1):\n",
            "STOP: TOTAL NO. of ITERATIONS REACHED LIMIT.\n",
            "\n",
            "Increase the number of iterations (max_iter) or scale the data as shown in:\n",
            "    https://scikit-learn.org/stable/modules/preprocessing.html\n",
            "Please also refer to the documentation for alternative solver options:\n",
            "    https://scikit-learn.org/stable/modules/linear_model.html#logistic-regression\n",
            "  extra_warning_msg=_LOGISTIC_SOLVER_CONVERGENCE_MSG)\n",
            "/usr/local/lib/python3.7/dist-packages/sklearn/linear_model/_logistic.py:940: ConvergenceWarning: lbfgs failed to converge (status=1):\n",
            "STOP: TOTAL NO. of ITERATIONS REACHED LIMIT.\n",
            "\n",
            "Increase the number of iterations (max_iter) or scale the data as shown in:\n",
            "    https://scikit-learn.org/stable/modules/preprocessing.html\n",
            "Please also refer to the documentation for alternative solver options:\n",
            "    https://scikit-learn.org/stable/modules/linear_model.html#logistic-regression\n",
            "  extra_warning_msg=_LOGISTIC_SOLVER_CONVERGENCE_MSG)\n",
            "/usr/local/lib/python3.7/dist-packages/sklearn/linear_model/_logistic.py:940: ConvergenceWarning: lbfgs failed to converge (status=1):\n",
            "STOP: TOTAL NO. of ITERATIONS REACHED LIMIT.\n",
            "\n",
            "Increase the number of iterations (max_iter) or scale the data as shown in:\n",
            "    https://scikit-learn.org/stable/modules/preprocessing.html\n",
            "Please also refer to the documentation for alternative solver options:\n",
            "    https://scikit-learn.org/stable/modules/linear_model.html#logistic-regression\n",
            "  extra_warning_msg=_LOGISTIC_SOLVER_CONVERGENCE_MSG)\n"
          ],
          "name": "stderr"
        }
      ]
    },
    {
      "cell_type": "code",
      "metadata": {
        "colab": {
          "base_uri": "https://localhost:8080/"
        },
        "id": "bp8HdrAYQ9u8",
        "outputId": "477b7e2a-5a1c-4c75-84f9-347ce489d31b"
      },
      "source": [
        "print(results.mean())"
      ],
      "id": "bp8HdrAYQ9u8",
      "execution_count": 20,
      "outputs": [
        {
          "output_type": "stream",
          "text": [
            "0.8325000000000001\n"
          ],
          "name": "stdout"
        }
      ]
    },
    {
      "cell_type": "code",
      "metadata": {
        "id": "LivMJ3usRGMj"
      },
      "source": [
        ""
      ],
      "id": "LivMJ3usRGMj",
      "execution_count": null,
      "outputs": []
    }
  ]
}